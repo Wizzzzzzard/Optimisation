{
 "cells": [
  {
   "cell_type": "markdown",
   "metadata": {},
   "source": [
    " - Step 0: Label all client nodes as “not served”. Go to Step 1.\n",
    " - Step 1: If all client nodes are already labelled “served”, then STOP. Otherwise, start at one of the centres (or ‘depots’) with a new staff member, initialize the work duration of this staff member as zero, and go to Step 2.\n",
    " - Step 2: From the current node, pick the nearest neighbour client node j that is “not served”. If the current work duration and the walking distance to j add up to more than 7 hours, then this staff member has completed their shift, go to Step 1. Otherwise, go to Step 3.\n",
    " - Step 3: Add the walking distance to j as well as the task duration at j to the current work duration. Update the label of node j from “not served” to “served”. If the updated work duration is more than 7 hours, then this staff member has completed their shift, go to Step 1. Otherwise, go to Step 2."
   ]
  },
  {
   "cell_type": "markdown",
   "metadata": {},
   "source": [
    "Depots are 71, 142, 280, 3451, 6846, and 7649"
   ]
  },
  {
   "cell_type": "code",
   "execution_count": 11,
   "metadata": {},
   "outputs": [],
   "source": [
    "import numpy as np\n",
    "import pandas as pd\n",
    "import matplotlib.pyplot as plt\n",
    "import csv\n",
    "import itertools\n",
    "import copy\n",
    "import networkx as nx\n",
    "import scipy as sci"
   ]
  },
  {
   "cell_type": "code",
   "execution_count": 55,
   "metadata": {},
   "outputs": [
    {
     "data": {
      "text/plain": [
       "array([[   0,    4,   38, ..., 8360, 8507, 8545],\n",
       "       [   4,    0, 1280, ...,  777, 1025, 1017],\n",
       "       [  38, 1280,    0, ..., 1408, 1515, 1433],\n",
       "       ...,\n",
       "       [8360,  777, 1408, ...,    0, 1530, 1449],\n",
       "       [8507, 1025, 1515, ..., 1530,    0,   82],\n",
       "       [8545, 1017, 1433, ..., 1449,   82,    0]])"
      ]
     },
     "execution_count": 55,
     "metadata": {},
     "output_type": "execute_result"
    }
   ],
   "source": [
    "CareDist_Matrix = np.loadtxt(open(\"CareDistances-FULL.csv\", \"rb\"), dtype=int, delimiter=\",\", skiprows=1)\n",
    "CareDist_Matrix"
   ]
  },
  {
   "cell_type": "markdown",
   "metadata": {},
   "source": [
    "# Create the Data\n",
    "The code below creates the data for the problem."
   ]
  },
  {
   "cell_type": "code",
   "execution_count": 57,
   "metadata": {},
   "outputs": [],
   "source": [
    "def create_data_model():\n",
    "    \"\"\"Stores the data for the problem.\"\"\"\n",
    "    data = {}\n",
    "    data['distance_matrix'] = CareDist_Matrix # yapf: disable\n",
    "    data['num_vehicles'] = 1\n",
    "    data['depot'] = 71\n",
    "    return data"
   ]
  },
  {
   "cell_type": "markdown",
   "metadata": {},
   "source": [
    "The distance matrix is an array whose i, j entry is the distance from location i to location j in miles, where the array indices correspond to the locations\n",
    "\n",
    "Note: The order of the locations in the distance matrix is arbitrary, and is unrelated to the order of locations in any solution to the TSP.\n",
    "\n",
    "The data also includes:\n",
    "\n",
    " - The number of vehicles in the problem, which is 1 because this is a TSP. (For a vehicle routing problem (VRP), the number of vehicles can be greater than 1.)\n",
    " - The depot: the start and end location for the route. In this case, the depot is 71, which is one of 7 depotsbm."
   ]
  },
  {
   "cell_type": "markdown",
   "metadata": {},
   "source": [
    "# Create the routing model\n",
    "The following code in the main section of the programs creates the index manager (manager) and the routing model (routing). \n",
    "\n",
    "The method manager.IndexToNode converts the solver's internal indices (which you can safely ignore) to the numbers for locations. \n",
    "\n",
    "Location numbers correspond to the indices for the distance matrix."
   ]
  },
  {
   "cell_type": "code",
   "execution_count": 61,
   "metadata": {},
   "outputs": [],
   "source": [
    "from ortools.constraint_solver import pywrapcp\n",
    "\n",
    "data = create_data_model()\n",
    "manager = pywrapcp.RoutingIndexManager(len(data['distance_matrix']),\n",
    "                                       data['num_vehicles'], data['depot'])\n",
    "routing = pywrapcp.RoutingModel(manager)"
   ]
  },
  {
   "cell_type": "markdown",
   "metadata": {},
   "source": [
    "The inputs to RoutingIndexManager are:\n",
    "\n",
    " - The number of rows of the distance matrix, which is the number of locations (including the depot).\n",
    " - The number of vehicles in the problem.\n",
    " - The node corresponding to the depot."
   ]
  },
  {
   "cell_type": "markdown",
   "metadata": {},
   "source": [
    "# Create the distance callback\n",
    "To use the routing solver, you need to create a distance (or transit) callback: a function that takes any pair of locations and returns the distance between them. The easiest way to do this is using the distance matrix.\n",
    "\n",
    "The following function creates the callback and registers it with the solver as transit_callback_index."
   ]
  },
  {
   "cell_type": "code",
   "execution_count": 62,
   "metadata": {},
   "outputs": [],
   "source": [
    "def distance_callback(from_index, to_index):\n",
    "    \"\"\"Returns the distance between the two nodes.\"\"\"\n",
    "    # Convert from routing variable Index to distance matrix NodeIndex.\n",
    "    from_node = manager.IndexToNode(from_index)\n",
    "    to_node = manager.IndexToNode(to_index)\n",
    "    return data['distance_matrix'][from_node][to_node]\n",
    "\n",
    "transit_callback_index = routing.RegisterTransitCallback(distance_callback)"
   ]
  },
  {
   "cell_type": "markdown",
   "metadata": {},
   "source": [
    "The callback accepts two indices, from_index and to_index, and returns the corresponding entry of the distance matrix."
   ]
  },
  {
   "cell_type": "markdown",
   "metadata": {},
   "source": [
    "# Set the cost of travel\n",
    "The arc cost evaluator tells the solver how to calculate the cost of travel between any two locations—in other words, the cost of the edge (or arc) joining them in the graph for the problem. The following code sets the arc cost evaluator."
   ]
  },
  {
   "cell_type": "code",
   "execution_count": 63,
   "metadata": {},
   "outputs": [],
   "source": [
    "routing.SetArcCostEvaluatorOfAllVehicles(transit_callback_index)"
   ]
  },
  {
   "cell_type": "markdown",
   "metadata": {},
   "source": [
    "In this example, the arc cost evaluator is the transit_callback_index, which is the solver's internal reference to the distance callback. This means that the cost of travel between any two locations is just the distance between them. However, in general the costs can involve other factors as well."
   ]
  },
  {
   "cell_type": "markdown",
   "metadata": {},
   "source": [
    "# Set search parameters\n",
    "The following code sets the default search parameters and a heuristic method for finding the first solution:"
   ]
  },
  {
   "cell_type": "code",
   "execution_count": 66,
   "metadata": {},
   "outputs": [],
   "source": [
    "from ortools.constraint_solver import routing_enums_pb2\n",
    "\n",
    "search_parameters = pywrapcp.DefaultRoutingSearchParameters()\n",
    "search_parameters.first_solution_strategy = (\n",
    "    routing_enums_pb2.FirstSolutionStrategy.PATH_CHEAPEST_ARC)"
   ]
  },
  {
   "cell_type": "markdown",
   "metadata": {},
   "source": [
    "The code sets the first solution strategy to PATH_CHEAPEST_ARC, which creates an initial route for the solver by repeatedly adding edges with the least weight that don't lead to a previously visited node (other than the depot). For other options, see [First solution strategy.](https://developers.google.com/optimization/routing/routing_options#first_sol_options)"
   ]
  },
  {
   "cell_type": "markdown",
   "metadata": {},
   "source": [
    "# Add the solution printer\n",
    "The function that displays the solution returned by the solver is shown below. The function extracts the route from the solution and prints it to the console."
   ]
  },
  {
   "cell_type": "code",
   "execution_count": 67,
   "metadata": {},
   "outputs": [],
   "source": [
    "def print_solution(manager, routing, solution):\n",
    "    \"\"\"Prints solution on console.\"\"\"\n",
    "    print('Objective: {} miles'.format(solution.ObjectiveValue()))\n",
    "    index = routing.Start(0)\n",
    "    plan_output = 'Route for vehicle 0:\\n'\n",
    "    route_distance = 0\n",
    "    while not routing.IsEnd(index):\n",
    "        plan_output += ' {} ->'.format(manager.IndexToNode(index))\n",
    "        previous_index = index\n",
    "        index = solution.Value(routing.NextVar(index))\n",
    "        route_distance += routing.GetArcCostForVehicle(previous_index, index, 0)\n",
    "    plan_output += ' {}\\n'.format(manager.IndexToNode(index))\n",
    "    print(plan_output)\n",
    "    plan_output += 'Route distance: {}miles\\n'.format(route_distance)"
   ]
  },
  {
   "cell_type": "markdown",
   "metadata": {},
   "source": [
    "The function displays the optimal route and its distance, which is given by ObjectiveValue()."
   ]
  },
  {
   "cell_type": "markdown",
   "metadata": {},
   "source": [
    "# Solve and print the solution\n",
    "Finally, you can call the solver and print the solution:"
   ]
  },
  {
   "cell_type": "code",
   "execution_count": 68,
   "metadata": {},
   "outputs": [
    {
     "name": "stdout",
     "output_type": "stream",
     "text": [
      "Objective: 28895 miles\n",
      "Route for vehicle 0:\n",
      " 71 -> 102 -> 131 -> 139 -> 23 -> 188 -> 69 -> 132 -> 115 -> 75 -> 32 -> 229 -> 216 -> 12 -> 5 -> 4 -> 11 -> 90 -> 65 -> 58 -> 18 -> 50 -> 153 -> 61 -> 159 -> 24 -> 183 -> 42 -> 53 -> 167 -> 201 -> 195 -> 204 -> 130 -> 79 -> 13 -> 152 -> 46 -> 94 -> 6 -> 8 -> 25 -> 147 -> 203 -> 118 -> 205 -> 64 -> 194 -> 60 -> 91 -> 124 -> 82 -> 214 -> 179 -> 43 -> 72 -> 126 -> 110 -> 100 -> 117 -> 226 -> 182 -> 45 -> 165 -> 187 -> 149 -> 55 -> 40 -> 101 -> 133 -> 80 -> 209 -> 1 -> 0 -> 37 -> 98 -> 107 -> 171 -> 81 -> 189 -> 210 -> 141 -> 62 -> 181 -> 17 -> 197 -> 26 -> 68 -> 38 -> 161 -> 144 -> 196 -> 29 -> 228 -> 109 -> 28 -> 192 -> 10 -> 213 -> 84 -> 234 -> 175 -> 76 -> 74 -> 35 -> 85 -> 113 -> 106 -> 219 -> 52 -> 160 -> 218 -> 67 -> 223 -> 211 -> 231 -> 163 -> 158 -> 178 -> 198 -> 173 -> 208 -> 127 -> 177 -> 128 -> 199 -> 93 -> 27 -> 92 -> 134 -> 155 -> 162 -> 166 -> 227 -> 87 -> 140 -> 170 -> 174 -> 99 -> 108 -> 143 -> 21 -> 230 -> 112 -> 97 -> 207 -> 123 -> 88 -> 49 -> 148 -> 96 -> 138 -> 169 -> 217 -> 150 -> 114 -> 59 -> 202 -> 86 -> 193 -> 122 -> 200 -> 78 -> 142 -> 156 -> 77 -> 116 -> 54 -> 146 -> 184 -> 186 -> 39 -> 135 -> 212 -> 47 -> 125 -> 19 -> 185 -> 48 -> 104 -> 41 -> 14 -> 36 -> 15 -> 34 -> 137 -> 95 -> 2 -> 89 -> 51 -> 172 -> 73 -> 191 -> 105 -> 215 -> 63 -> 56 -> 129 -> 164 -> 20 -> 119 -> 121 -> 221 -> 22 -> 3 -> 16 -> 30 -> 7 -> 9 -> 235 -> 154 -> 31 -> 111 -> 145 -> 180 -> 168 -> 136 -> 33 -> 70 -> 151 -> 222 -> 190 -> 83 -> 233 -> 103 -> 157 -> 206 -> 236 -> 220 -> 57 -> 66 -> 176 -> 224 -> 225 -> 232 -> 120 -> 44 -> 71\n",
      "\n"
     ]
    }
   ],
   "source": [
    "solution = routing.SolveWithParameters(search_parameters)\n",
    "if solution:\n",
    "    print_solution(manager, routing, solution)"
   ]
  },
  {
   "cell_type": "markdown",
   "metadata": {},
   "source": [
    "This returns the solution and displays the optimal route."
   ]
  },
  {
   "cell_type": "code",
   "execution_count": null,
   "metadata": {},
   "outputs": [],
   "source": []
  },
  {
   "cell_type": "code",
   "execution_count": null,
   "metadata": {},
   "outputs": [],
   "source": []
  },
  {
   "cell_type": "code",
   "execution_count": null,
   "metadata": {},
   "outputs": [],
   "source": []
  },
  {
   "cell_type": "code",
   "execution_count": 29,
   "metadata": {},
   "outputs": [
    {
     "data": {
      "text/html": [
       "<div>\n",
       "<style scoped>\n",
       "    .dataframe tbody tr th:only-of-type {\n",
       "        vertical-align: middle;\n",
       "    }\n",
       "\n",
       "    .dataframe tbody tr th {\n",
       "        vertical-align: top;\n",
       "    }\n",
       "\n",
       "    .dataframe thead th {\n",
       "        text-align: right;\n",
       "    }\n",
       "</style>\n",
       "<table border=\"1\" class=\"dataframe\">\n",
       "  <thead>\n",
       "    <tr style=\"text-align: right;\">\n",
       "      <th></th>\n",
       "      <th>Unnamed: 0</th>\n",
       "      <th>4</th>\n",
       "      <th>38</th>\n",
       "      <th>71</th>\n",
       "      <th>90</th>\n",
       "      <th>94</th>\n",
       "      <th>101</th>\n",
       "      <th>142</th>\n",
       "      <th>163</th>\n",
       "      <th>164</th>\n",
       "      <th>...</th>\n",
       "      <th>8206</th>\n",
       "      <th>8232</th>\n",
       "      <th>8236</th>\n",
       "      <th>8255</th>\n",
       "      <th>8271</th>\n",
       "      <th>8300</th>\n",
       "      <th>8358</th>\n",
       "      <th>8360</th>\n",
       "      <th>8507</th>\n",
       "      <th>8545</th>\n",
       "    </tr>\n",
       "  </thead>\n",
       "  <tbody>\n",
       "    <tr>\n",
       "      <th>0</th>\n",
       "      <td>4</td>\n",
       "      <td>0</td>\n",
       "      <td>1280</td>\n",
       "      <td>1762</td>\n",
       "      <td>1406</td>\n",
       "      <td>1589</td>\n",
       "      <td>1312</td>\n",
       "      <td>941</td>\n",
       "      <td>1098</td>\n",
       "      <td>1020</td>\n",
       "      <td>...</td>\n",
       "      <td>1377</td>\n",
       "      <td>321</td>\n",
       "      <td>1469</td>\n",
       "      <td>1398</td>\n",
       "      <td>1753</td>\n",
       "      <td>1762</td>\n",
       "      <td>846</td>\n",
       "      <td>777</td>\n",
       "      <td>1025</td>\n",
       "      <td>1017</td>\n",
       "    </tr>\n",
       "    <tr>\n",
       "      <th>1</th>\n",
       "      <td>38</td>\n",
       "      <td>1280</td>\n",
       "      <td>0</td>\n",
       "      <td>681</td>\n",
       "      <td>202</td>\n",
       "      <td>385</td>\n",
       "      <td>956</td>\n",
       "      <td>1639</td>\n",
       "      <td>1003</td>\n",
       "      <td>1520</td>\n",
       "      <td>...</td>\n",
       "      <td>1817</td>\n",
       "      <td>1178</td>\n",
       "      <td>411</td>\n",
       "      <td>2029</td>\n",
       "      <td>1370</td>\n",
       "      <td>681</td>\n",
       "      <td>1603</td>\n",
       "      <td>1408</td>\n",
       "      <td>1515</td>\n",
       "      <td>1433</td>\n",
       "    </tr>\n",
       "    <tr>\n",
       "      <th>2</th>\n",
       "      <td>71</td>\n",
       "      <td>1762</td>\n",
       "      <td>681</td>\n",
       "      <td>0</td>\n",
       "      <td>503</td>\n",
       "      <td>0</td>\n",
       "      <td>1512</td>\n",
       "      <td>2110</td>\n",
       "      <td>1524</td>\n",
       "      <td>0</td>\n",
       "      <td>...</td>\n",
       "      <td>2323</td>\n",
       "      <td>1660</td>\n",
       "      <td>342</td>\n",
       "      <td>2511</td>\n",
       "      <td>1926</td>\n",
       "      <td>0</td>\n",
       "      <td>2084</td>\n",
       "      <td>1890</td>\n",
       "      <td>1996</td>\n",
       "      <td>0</td>\n",
       "    </tr>\n",
       "    <tr>\n",
       "      <th>3</th>\n",
       "      <td>90</td>\n",
       "      <td>1406</td>\n",
       "      <td>202</td>\n",
       "      <td>503</td>\n",
       "      <td>0</td>\n",
       "      <td>0</td>\n",
       "      <td>1082</td>\n",
       "      <td>1765</td>\n",
       "      <td>1129</td>\n",
       "      <td>1646</td>\n",
       "      <td>...</td>\n",
       "      <td>1943</td>\n",
       "      <td>1304</td>\n",
       "      <td>355</td>\n",
       "      <td>2155</td>\n",
       "      <td>1496</td>\n",
       "      <td>503</td>\n",
       "      <td>1728</td>\n",
       "      <td>1534</td>\n",
       "      <td>1640</td>\n",
       "      <td>1559</td>\n",
       "    </tr>\n",
       "    <tr>\n",
       "      <th>4</th>\n",
       "      <td>94</td>\n",
       "      <td>1589</td>\n",
       "      <td>385</td>\n",
       "      <td>0</td>\n",
       "      <td>0</td>\n",
       "      <td>0</td>\n",
       "      <td>1264</td>\n",
       "      <td>0</td>\n",
       "      <td>1311</td>\n",
       "      <td>1829</td>\n",
       "      <td>...</td>\n",
       "      <td>2126</td>\n",
       "      <td>1487</td>\n",
       "      <td>226</td>\n",
       "      <td>2338</td>\n",
       "      <td>1679</td>\n",
       "      <td>338</td>\n",
       "      <td>1911</td>\n",
       "      <td>1717</td>\n",
       "      <td>1823</td>\n",
       "      <td>1742</td>\n",
       "    </tr>\n",
       "  </tbody>\n",
       "</table>\n",
       "<p>5 rows × 237 columns</p>\n",
       "</div>"
      ],
      "text/plain": [
       "   Unnamed: 0     4    38    71    90    94   101   142   163   164  ...  \\\n",
       "0           4     0  1280  1762  1406  1589  1312   941  1098  1020  ...   \n",
       "1          38  1280     0   681   202   385   956  1639  1003  1520  ...   \n",
       "2          71  1762   681     0   503     0  1512  2110  1524     0  ...   \n",
       "3          90  1406   202   503     0     0  1082  1765  1129  1646  ...   \n",
       "4          94  1589   385     0     0     0  1264     0  1311  1829  ...   \n",
       "\n",
       "   8206  8232  8236  8255  8271  8300  8358  8360  8507  8545  \n",
       "0  1377   321  1469  1398  1753  1762   846   777  1025  1017  \n",
       "1  1817  1178   411  2029  1370   681  1603  1408  1515  1433  \n",
       "2  2323  1660   342  2511  1926     0  2084  1890  1996     0  \n",
       "3  1943  1304   355  2155  1496   503  1728  1534  1640  1559  \n",
       "4  2126  1487   226  2338  1679   338  1911  1717  1823  1742  \n",
       "\n",
       "[5 rows x 237 columns]"
      ]
     },
     "execution_count": 29,
     "metadata": {},
     "output_type": "execute_result"
    }
   ],
   "source": [
    "CareDist = pd.read_csv (r'CareDistances-FULL.csv', header=1, delimiter=',', index_col=\"Unnamed: 0\")\n",
    "CareDist.head()"
   ]
  },
  {
   "cell_type": "code",
   "execution_count": 20,
   "metadata": {},
   "outputs": [],
   "source": [
    "c = np.tile(CareDist.columns, len(CareDist))\n",
    "i = np.repeat(CareDist.index, len(CareDist.columns))\n",
    "v = np.ravel(CareDist)\n",
    "\n",
    "Expanded_CareDist = pd.DataFrame({'Node1':i, 'Node2':c, 'Distance':v})"
   ]
  },
  {
   "cell_type": "code",
   "execution_count": 21,
   "metadata": {},
   "outputs": [
    {
     "data": {
      "text/html": [
       "<div>\n",
       "<style scoped>\n",
       "    .dataframe tbody tr th:only-of-type {\n",
       "        vertical-align: middle;\n",
       "    }\n",
       "\n",
       "    .dataframe tbody tr th {\n",
       "        vertical-align: top;\n",
       "    }\n",
       "\n",
       "    .dataframe thead th {\n",
       "        text-align: right;\n",
       "    }\n",
       "</style>\n",
       "<table border=\"1\" class=\"dataframe\">\n",
       "  <thead>\n",
       "    <tr style=\"text-align: right;\">\n",
       "      <th></th>\n",
       "      <th>Node1</th>\n",
       "      <th>Node2</th>\n",
       "      <th>Distance</th>\n",
       "    </tr>\n",
       "  </thead>\n",
       "  <tbody>\n",
       "    <tr>\n",
       "      <th>0</th>\n",
       "      <td>4</td>\n",
       "      <td>4</td>\n",
       "      <td>0</td>\n",
       "    </tr>\n",
       "    <tr>\n",
       "      <th>1</th>\n",
       "      <td>4</td>\n",
       "      <td>38</td>\n",
       "      <td>1280</td>\n",
       "    </tr>\n",
       "    <tr>\n",
       "      <th>2</th>\n",
       "      <td>4</td>\n",
       "      <td>71</td>\n",
       "      <td>1762</td>\n",
       "    </tr>\n",
       "    <tr>\n",
       "      <th>3</th>\n",
       "      <td>4</td>\n",
       "      <td>90</td>\n",
       "      <td>1406</td>\n",
       "    </tr>\n",
       "    <tr>\n",
       "      <th>4</th>\n",
       "      <td>4</td>\n",
       "      <td>94</td>\n",
       "      <td>1589</td>\n",
       "    </tr>\n",
       "    <tr>\n",
       "      <th>...</th>\n",
       "      <td>...</td>\n",
       "      <td>...</td>\n",
       "      <td>...</td>\n",
       "    </tr>\n",
       "    <tr>\n",
       "      <th>55691</th>\n",
       "      <td>8545</td>\n",
       "      <td>8300</td>\n",
       "      <td>1915</td>\n",
       "    </tr>\n",
       "    <tr>\n",
       "      <th>55692</th>\n",
       "      <td>8545</td>\n",
       "      <td>8358</td>\n",
       "      <td>335</td>\n",
       "    </tr>\n",
       "    <tr>\n",
       "      <th>55693</th>\n",
       "      <td>8545</td>\n",
       "      <td>8360</td>\n",
       "      <td>1449</td>\n",
       "    </tr>\n",
       "    <tr>\n",
       "      <th>55694</th>\n",
       "      <td>8545</td>\n",
       "      <td>8507</td>\n",
       "      <td>82</td>\n",
       "    </tr>\n",
       "    <tr>\n",
       "      <th>55695</th>\n",
       "      <td>8545</td>\n",
       "      <td>8545</td>\n",
       "      <td>0</td>\n",
       "    </tr>\n",
       "  </tbody>\n",
       "</table>\n",
       "<p>55696 rows × 3 columns</p>\n",
       "</div>"
      ],
      "text/plain": [
       "       Node1 Node2  Distance\n",
       "0          4     4         0\n",
       "1          4    38      1280\n",
       "2          4    71      1762\n",
       "3          4    90      1406\n",
       "4          4    94      1589\n",
       "...      ...   ...       ...\n",
       "55691   8545  8300      1915\n",
       "55692   8545  8358       335\n",
       "55693   8545  8360      1449\n",
       "55694   8545  8507        82\n",
       "55695   8545  8545         0\n",
       "\n",
       "[55696 rows x 3 columns]"
      ]
     },
     "execution_count": 21,
     "metadata": {},
     "output_type": "execute_result"
    }
   ],
   "source": [
    "Expanded_CareDist"
   ]
  },
  {
   "cell_type": "code",
   "execution_count": null,
   "metadata": {},
   "outputs": [],
   "source": [
    "df2 = pd.DataFrame()\n",
    "for i in CareDist.index:\n",
    "    for j in CareDist.columns:\n",
    "        df2 = df2.append(pd.DataFrame({'Node1': [i], 'Node2': [j], 'Distance': [CareDist.at[i, j]]}), ignore_index=True)"
   ]
  },
  {
   "cell_type": "code",
   "execution_count": 130,
   "metadata": {},
   "outputs": [
    {
     "data": {
      "text/html": [
       "<div>\n",
       "<style scoped>\n",
       "    .dataframe tbody tr th:only-of-type {\n",
       "        vertical-align: middle;\n",
       "    }\n",
       "\n",
       "    .dataframe tbody tr th {\n",
       "        vertical-align: top;\n",
       "    }\n",
       "\n",
       "    .dataframe thead th {\n",
       "        text-align: right;\n",
       "    }\n",
       "</style>\n",
       "<table border=\"1\" class=\"dataframe\">\n",
       "  <thead>\n",
       "    <tr style=\"text-align: right;\">\n",
       "      <th></th>\n",
       "      <th>Node1</th>\n",
       "      <th>Node2</th>\n",
       "      <th>Distance</th>\n",
       "    </tr>\n",
       "  </thead>\n",
       "  <tbody>\n",
       "    <tr>\n",
       "      <td>0</td>\n",
       "      <td>4</td>\n",
       "      <td>4</td>\n",
       "      <td>0</td>\n",
       "    </tr>\n",
       "    <tr>\n",
       "      <td>1</td>\n",
       "      <td>4</td>\n",
       "      <td>38</td>\n",
       "      <td>1280</td>\n",
       "    </tr>\n",
       "    <tr>\n",
       "      <td>2</td>\n",
       "      <td>4</td>\n",
       "      <td>71</td>\n",
       "      <td>1762</td>\n",
       "    </tr>\n",
       "    <tr>\n",
       "      <td>3</td>\n",
       "      <td>4</td>\n",
       "      <td>90</td>\n",
       "      <td>1406</td>\n",
       "    </tr>\n",
       "    <tr>\n",
       "      <td>4</td>\n",
       "      <td>4</td>\n",
       "      <td>94</td>\n",
       "      <td>1589</td>\n",
       "    </tr>\n",
       "  </tbody>\n",
       "</table>\n",
       "</div>"
      ],
      "text/plain": [
       "   Node1 Node2  Distance\n",
       "0      4     4         0\n",
       "1      4    38      1280\n",
       "2      4    71      1762\n",
       "3      4    90      1406\n",
       "4      4    94      1589"
      ]
     },
     "execution_count": 130,
     "metadata": {},
     "output_type": "execute_result"
    }
   ],
   "source": [
    "CareDist = df2\n",
    "CareDist.head()"
   ]
  },
  {
   "cell_type": "code",
   "execution_count": 25,
   "metadata": {},
   "outputs": [
    {
     "ename": "NetworkXError",
     "evalue": "('Columns must match Indices.', '[2048, 1538, 6658, 4, 1540, 4100, 5639, 520, 2056, 8195, 8201, 8206, 1039, 3091, 3606, 5655, 5143, 1560, 4120, 5665, 5669, 38, 8232, 554, 2091, 8236, 3118, 1071, 3120, 1073, 4655, 1076, 4661, 4150, 568, 2619, 3643, 4669, 3647, 3648, 8255, 71, 5706, 8271, 90, 1626, 1116, 2139, 94, 607, 1631, 4703, 101, 7270, 5223, 5227, 8300, 2670, 1136, 1138, 2680, 7289, 5757, 2176, 3719, 7304, 2698, 5259, 6796, 653, 142, 3214, 2192, 5261, 3218, 5264, 4758, 1175, 664, 2713, 7320, 2717, 671, 7328, 3234, 163, 164, 6819, 8358, 8360, 3241, 3242, 683, 2736, 6322, 7346, 3764, 7352, 4794, 6331, 5308, 6846, 196, 3268, 6856, 201, 6857, 4300, 7372, 1231, 213, 216, 2265, 3801, 1758, 4322, 7396, 1767, 4839, 6891, 6898, 3828, 760, 4859, 1788, 3839, 4356, 4357, 6405, 5895, 1808, 3348, 3862, 280, 1304, 1310, 3359, 1824, 5408, 6432, 5415, 4398, 1327, 304, 2354, 5939, 6451, 6454, 6966, 1848, 1337, 3897, 6967, 6972, 8507, 5950, 5958, 6983, 4936, 336, 2384, 3408, 1363, 6993, 7512, 7514, 864, 8545, 5474, 4966, 3431, 1388, 3436, 7020, 1907, 5492, 7028, 6007, 3451, 5500, 5501, 1918, 1407, 7549, 1412, 4484, 1926, 2442, 6540, 7567, 5520, 2451, 7573, 918, 1430, 7578, 7068, 5023, 6048, 7071, 7591, 5545, 940, 4525, 7599, 3507, 4531, 1973, 3509, 4535, 1467, 1468, 4027, 3518, 6078, 7108, 1989, 5068, 7629, 8143, 464, 7120, 466, 2002, 985, 4570, 3040, 7649, 1508, 3052, 8172, 8177, 8179, 7158, 4603, 5630] not in columns')",
     "output_type": "error",
     "traceback": [
      "\u001b[1;31m---------------------------------------------------------------------------\u001b[0m",
      "\u001b[1;31mKeyError\u001b[0m                                  Traceback (most recent call last)",
      "\u001b[1;32mC:\\ProgramData\\Anaconda3\\lib\\site-packages\\networkx\\convert_matrix.py\u001b[0m in \u001b[0;36mfrom_pandas_adjacency\u001b[1;34m(df, create_using)\u001b[0m\n\u001b[0;32m    201\u001b[0m     \u001b[1;32mtry\u001b[0m\u001b[1;33m:\u001b[0m\u001b[1;33m\u001b[0m\u001b[1;33m\u001b[0m\u001b[0m\n\u001b[1;32m--> 202\u001b[1;33m         \u001b[0mdf\u001b[0m \u001b[1;33m=\u001b[0m \u001b[0mdf\u001b[0m\u001b[1;33m[\u001b[0m\u001b[0mdf\u001b[0m\u001b[1;33m.\u001b[0m\u001b[0mindex\u001b[0m\u001b[1;33m]\u001b[0m\u001b[1;33m\u001b[0m\u001b[1;33m\u001b[0m\u001b[0m\n\u001b[0m\u001b[0;32m    203\u001b[0m     \u001b[1;32mexcept\u001b[0m \u001b[0mException\u001b[0m \u001b[1;32mas\u001b[0m \u001b[0me\u001b[0m\u001b[1;33m:\u001b[0m\u001b[1;33m\u001b[0m\u001b[1;33m\u001b[0m\u001b[0m\n",
      "\u001b[1;32mC:\\ProgramData\\Anaconda3\\lib\\site-packages\\pandas\\core\\frame.py\u001b[0m in \u001b[0;36m__getitem__\u001b[1;34m(self, key)\u001b[0m\n\u001b[0;32m   2907\u001b[0m                 \u001b[0mkey\u001b[0m \u001b[1;33m=\u001b[0m \u001b[0mlist\u001b[0m\u001b[1;33m(\u001b[0m\u001b[0mkey\u001b[0m\u001b[1;33m)\u001b[0m\u001b[1;33m\u001b[0m\u001b[1;33m\u001b[0m\u001b[0m\n\u001b[1;32m-> 2908\u001b[1;33m             \u001b[0mindexer\u001b[0m \u001b[1;33m=\u001b[0m \u001b[0mself\u001b[0m\u001b[1;33m.\u001b[0m\u001b[0mloc\u001b[0m\u001b[1;33m.\u001b[0m\u001b[0m_get_listlike_indexer\u001b[0m\u001b[1;33m(\u001b[0m\u001b[0mkey\u001b[0m\u001b[1;33m,\u001b[0m \u001b[0maxis\u001b[0m\u001b[1;33m=\u001b[0m\u001b[1;36m1\u001b[0m\u001b[1;33m,\u001b[0m \u001b[0mraise_missing\u001b[0m\u001b[1;33m=\u001b[0m\u001b[1;32mTrue\u001b[0m\u001b[1;33m)\u001b[0m\u001b[1;33m[\u001b[0m\u001b[1;36m1\u001b[0m\u001b[1;33m]\u001b[0m\u001b[1;33m\u001b[0m\u001b[1;33m\u001b[0m\u001b[0m\n\u001b[0m\u001b[0;32m   2909\u001b[0m \u001b[1;33m\u001b[0m\u001b[0m\n",
      "\u001b[1;32mC:\\ProgramData\\Anaconda3\\lib\\site-packages\\pandas\\core\\indexing.py\u001b[0m in \u001b[0;36m_get_listlike_indexer\u001b[1;34m(self, key, axis, raise_missing)\u001b[0m\n\u001b[0;32m   1253\u001b[0m \u001b[1;33m\u001b[0m\u001b[0m\n\u001b[1;32m-> 1254\u001b[1;33m         \u001b[0mself\u001b[0m\u001b[1;33m.\u001b[0m\u001b[0m_validate_read_indexer\u001b[0m\u001b[1;33m(\u001b[0m\u001b[0mkeyarr\u001b[0m\u001b[1;33m,\u001b[0m \u001b[0mindexer\u001b[0m\u001b[1;33m,\u001b[0m \u001b[0maxis\u001b[0m\u001b[1;33m,\u001b[0m \u001b[0mraise_missing\u001b[0m\u001b[1;33m=\u001b[0m\u001b[0mraise_missing\u001b[0m\u001b[1;33m)\u001b[0m\u001b[1;33m\u001b[0m\u001b[1;33m\u001b[0m\u001b[0m\n\u001b[0m\u001b[0;32m   1255\u001b[0m         \u001b[1;32mreturn\u001b[0m \u001b[0mkeyarr\u001b[0m\u001b[1;33m,\u001b[0m \u001b[0mindexer\u001b[0m\u001b[1;33m\u001b[0m\u001b[1;33m\u001b[0m\u001b[0m\n",
      "\u001b[1;32mC:\\ProgramData\\Anaconda3\\lib\\site-packages\\pandas\\core\\indexing.py\u001b[0m in \u001b[0;36m_validate_read_indexer\u001b[1;34m(self, key, indexer, axis, raise_missing)\u001b[0m\n\u001b[0;32m   1297\u001b[0m                 \u001b[0maxis_name\u001b[0m \u001b[1;33m=\u001b[0m \u001b[0mself\u001b[0m\u001b[1;33m.\u001b[0m\u001b[0mobj\u001b[0m\u001b[1;33m.\u001b[0m\u001b[0m_get_axis_name\u001b[0m\u001b[1;33m(\u001b[0m\u001b[0maxis\u001b[0m\u001b[1;33m)\u001b[0m\u001b[1;33m\u001b[0m\u001b[1;33m\u001b[0m\u001b[0m\n\u001b[1;32m-> 1298\u001b[1;33m                 \u001b[1;32mraise\u001b[0m \u001b[0mKeyError\u001b[0m\u001b[1;33m(\u001b[0m\u001b[1;34mf\"None of [{key}] are in the [{axis_name}]\"\u001b[0m\u001b[1;33m)\u001b[0m\u001b[1;33m\u001b[0m\u001b[1;33m\u001b[0m\u001b[0m\n\u001b[0m\u001b[0;32m   1299\u001b[0m \u001b[1;33m\u001b[0m\u001b[0m\n",
      "\u001b[1;31mKeyError\u001b[0m: \"None of [Int64Index([   4,   38,   71,   90,   94,  101,  142,  163,  164,  196,\\n            ...\\n            8206, 8232, 8236, 8255, 8271, 8300, 8358, 8360, 8507, 8545],\\n           dtype='int64', length=236)] are in the [columns]\"",
      "\nThe above exception was the direct cause of the following exception:\n",
      "\u001b[1;31mNetworkXError\u001b[0m                             Traceback (most recent call last)",
      "\u001b[1;32m<ipython-input-25-54d213cc0b31>\u001b[0m in \u001b[0;36m<module>\u001b[1;34m\u001b[0m\n\u001b[1;32m----> 1\u001b[1;33m \u001b[0mG\u001b[0m \u001b[1;33m=\u001b[0m \u001b[0mnx\u001b[0m\u001b[1;33m.\u001b[0m\u001b[0mfrom_pandas_adjacency\u001b[0m\u001b[1;33m(\u001b[0m\u001b[0mCareDist\u001b[0m\u001b[1;33m)\u001b[0m\u001b[1;33m\u001b[0m\u001b[1;33m\u001b[0m\u001b[0m\n\u001b[0m\u001b[0;32m      2\u001b[0m \u001b[0mweights\u001b[0m \u001b[1;33m=\u001b[0m \u001b[0mnx\u001b[0m\u001b[1;33m.\u001b[0m\u001b[0mget_edge_attributes\u001b[0m\u001b[1;33m(\u001b[0m\u001b[0mG\u001b[0m\u001b[1;33m,\u001b[0m \u001b[1;34m'weight'\u001b[0m\u001b[1;33m)\u001b[0m\u001b[1;33m\u001b[0m\u001b[1;33m\u001b[0m\u001b[0m\n\u001b[0;32m      3\u001b[0m \u001b[0mprint\u001b[0m\u001b[1;33m(\u001b[0m\u001b[0mweights\u001b[0m\u001b[1;33m)\u001b[0m\u001b[1;33m\u001b[0m\u001b[1;33m\u001b[0m\u001b[0m\n",
      "\u001b[1;32mC:\\ProgramData\\Anaconda3\\lib\\site-packages\\networkx\\convert_matrix.py\u001b[0m in \u001b[0;36mfrom_pandas_adjacency\u001b[1;34m(df, create_using)\u001b[0m\n\u001b[0;32m    204\u001b[0m         \u001b[0mmissing\u001b[0m \u001b[1;33m=\u001b[0m \u001b[0mlist\u001b[0m\u001b[1;33m(\u001b[0m\u001b[0mset\u001b[0m\u001b[1;33m(\u001b[0m\u001b[0mdf\u001b[0m\u001b[1;33m.\u001b[0m\u001b[0mindex\u001b[0m\u001b[1;33m)\u001b[0m\u001b[1;33m.\u001b[0m\u001b[0mdifference\u001b[0m\u001b[1;33m(\u001b[0m\u001b[0mset\u001b[0m\u001b[1;33m(\u001b[0m\u001b[0mdf\u001b[0m\u001b[1;33m.\u001b[0m\u001b[0mcolumns\u001b[0m\u001b[1;33m)\u001b[0m\u001b[1;33m)\u001b[0m\u001b[1;33m)\u001b[0m\u001b[1;33m\u001b[0m\u001b[1;33m\u001b[0m\u001b[0m\n\u001b[0;32m    205\u001b[0m         \u001b[0mmsg\u001b[0m \u001b[1;33m=\u001b[0m \u001b[1;34mf\"{missing} not in columns\"\u001b[0m\u001b[1;33m\u001b[0m\u001b[1;33m\u001b[0m\u001b[0m\n\u001b[1;32m--> 206\u001b[1;33m         \u001b[1;32mraise\u001b[0m \u001b[0mnx\u001b[0m\u001b[1;33m.\u001b[0m\u001b[0mNetworkXError\u001b[0m\u001b[1;33m(\u001b[0m\u001b[1;34m\"Columns must match Indices.\"\u001b[0m\u001b[1;33m,\u001b[0m \u001b[0mmsg\u001b[0m\u001b[1;33m)\u001b[0m \u001b[1;32mfrom\u001b[0m \u001b[0me\u001b[0m\u001b[1;33m\u001b[0m\u001b[1;33m\u001b[0m\u001b[0m\n\u001b[0m\u001b[0;32m    207\u001b[0m \u001b[1;33m\u001b[0m\u001b[0m\n\u001b[0;32m    208\u001b[0m     \u001b[0mA\u001b[0m \u001b[1;33m=\u001b[0m \u001b[0mdf\u001b[0m\u001b[1;33m.\u001b[0m\u001b[0mvalues\u001b[0m\u001b[1;33m\u001b[0m\u001b[1;33m\u001b[0m\u001b[0m\n",
      "\u001b[1;31mNetworkXError\u001b[0m: ('Columns must match Indices.', '[2048, 1538, 6658, 4, 1540, 4100, 5639, 520, 2056, 8195, 8201, 8206, 1039, 3091, 3606, 5655, 5143, 1560, 4120, 5665, 5669, 38, 8232, 554, 2091, 8236, 3118, 1071, 3120, 1073, 4655, 1076, 4661, 4150, 568, 2619, 3643, 4669, 3647, 3648, 8255, 71, 5706, 8271, 90, 1626, 1116, 2139, 94, 607, 1631, 4703, 101, 7270, 5223, 5227, 8300, 2670, 1136, 1138, 2680, 7289, 5757, 2176, 3719, 7304, 2698, 5259, 6796, 653, 142, 3214, 2192, 5261, 3218, 5264, 4758, 1175, 664, 2713, 7320, 2717, 671, 7328, 3234, 163, 164, 6819, 8358, 8360, 3241, 3242, 683, 2736, 6322, 7346, 3764, 7352, 4794, 6331, 5308, 6846, 196, 3268, 6856, 201, 6857, 4300, 7372, 1231, 213, 216, 2265, 3801, 1758, 4322, 7396, 1767, 4839, 6891, 6898, 3828, 760, 4859, 1788, 3839, 4356, 4357, 6405, 5895, 1808, 3348, 3862, 280, 1304, 1310, 3359, 1824, 5408, 6432, 5415, 4398, 1327, 304, 2354, 5939, 6451, 6454, 6966, 1848, 1337, 3897, 6967, 6972, 8507, 5950, 5958, 6983, 4936, 336, 2384, 3408, 1363, 6993, 7512, 7514, 864, 8545, 5474, 4966, 3431, 1388, 3436, 7020, 1907, 5492, 7028, 6007, 3451, 5500, 5501, 1918, 1407, 7549, 1412, 4484, 1926, 2442, 6540, 7567, 5520, 2451, 7573, 918, 1430, 7578, 7068, 5023, 6048, 7071, 7591, 5545, 940, 4525, 7599, 3507, 4531, 1973, 3509, 4535, 1467, 1468, 4027, 3518, 6078, 7108, 1989, 5068, 7629, 8143, 464, 7120, 466, 2002, 985, 4570, 3040, 7649, 1508, 3052, 8172, 8177, 8179, 7158, 4603, 5630] not in columns')"
     ]
    }
   ],
   "source": [
    "G = nx.from_pandas_adjacency(CareDist)\n",
    "weights = nx.get_edge_attributes(G, 'weight')\n",
    "print(weights)"
   ]
  },
  {
   "cell_type": "code",
   "execution_count": 30,
   "metadata": {},
   "outputs": [
    {
     "ename": "NetworkXError",
     "evalue": "('Columns must match Indices.', '[0, 1, 2, 3, 4, 5, 6, 7, 8, 9, 10, 11, 12, 13, 14, 15, 16, 17, 18, 19, 20, 21, 22, 23, 24, 25, 26, 27, 28, 29, 30, 31, 32, 33, 34, 35, 36, 37, 38, 39, 40, 41, 42, 43, 44, 45, 46, 47, 48, 49, 50, 51, 52, 53, 54, 55, 56, 57, 58, 59, 60, 61, 62, 63, 64, 65, 66, 67, 68, 69, 70, 71, 72, 73, 74, 75, 76, 77, 78, 79, 80, 81, 82, 83, 84, 85, 86, 87, 88, 89, 90, 91, 92, 93, 94, 95, 96, 97, 98, 99, 100, 101, 102, 103, 104, 105, 106, 107, 108, 109, 110, 111, 112, 113, 114, 115, 116, 117, 118, 119, 120, 121, 122, 123, 124, 125, 126, 127, 128, 129, 130, 131, 132, 133, 134, 135, 136, 137, 138, 139, 140, 141, 142, 143, 144, 145, 146, 147, 148, 149, 150, 151, 152, 153, 154, 155, 156, 157, 158, 159, 160, 161, 162, 163, 164, 165, 166, 167, 168, 169, 170, 171, 172, 173, 174, 175, 176, 177, 178, 179, 180, 181, 182, 183, 184, 185, 186, 187, 188, 189, 190, 191, 192, 193, 194, 195, 196, 197, 198, 199, 200, 201, 202, 203, 204, 205, 206, 207, 208, 209, 210, 211, 212, 213, 214, 215, 216, 217, 218, 219, 220, 221, 222, 223, 224, 225, 226, 227, 228, 229, 230, 231, 232, 233, 234, 235] not in columns')",
     "output_type": "error",
     "traceback": [
      "\u001b[1;31m---------------------------------------------------------------------------\u001b[0m",
      "\u001b[1;31mKeyError\u001b[0m                                  Traceback (most recent call last)",
      "\u001b[1;32mC:\\ProgramData\\Anaconda3\\lib\\site-packages\\networkx\\convert_matrix.py\u001b[0m in \u001b[0;36mfrom_pandas_adjacency\u001b[1;34m(df, create_using)\u001b[0m\n\u001b[0;32m    201\u001b[0m     \u001b[1;32mtry\u001b[0m\u001b[1;33m:\u001b[0m\u001b[1;33m\u001b[0m\u001b[1;33m\u001b[0m\u001b[0m\n\u001b[1;32m--> 202\u001b[1;33m         \u001b[0mdf\u001b[0m \u001b[1;33m=\u001b[0m \u001b[0mdf\u001b[0m\u001b[1;33m[\u001b[0m\u001b[0mdf\u001b[0m\u001b[1;33m.\u001b[0m\u001b[0mindex\u001b[0m\u001b[1;33m]\u001b[0m\u001b[1;33m\u001b[0m\u001b[1;33m\u001b[0m\u001b[0m\n\u001b[0m\u001b[0;32m    203\u001b[0m     \u001b[1;32mexcept\u001b[0m \u001b[0mException\u001b[0m \u001b[1;32mas\u001b[0m \u001b[0me\u001b[0m\u001b[1;33m:\u001b[0m\u001b[1;33m\u001b[0m\u001b[1;33m\u001b[0m\u001b[0m\n",
      "\u001b[1;32mC:\\ProgramData\\Anaconda3\\lib\\site-packages\\pandas\\core\\frame.py\u001b[0m in \u001b[0;36m__getitem__\u001b[1;34m(self, key)\u001b[0m\n\u001b[0;32m   2907\u001b[0m                 \u001b[0mkey\u001b[0m \u001b[1;33m=\u001b[0m \u001b[0mlist\u001b[0m\u001b[1;33m(\u001b[0m\u001b[0mkey\u001b[0m\u001b[1;33m)\u001b[0m\u001b[1;33m\u001b[0m\u001b[1;33m\u001b[0m\u001b[0m\n\u001b[1;32m-> 2908\u001b[1;33m             \u001b[0mindexer\u001b[0m \u001b[1;33m=\u001b[0m \u001b[0mself\u001b[0m\u001b[1;33m.\u001b[0m\u001b[0mloc\u001b[0m\u001b[1;33m.\u001b[0m\u001b[0m_get_listlike_indexer\u001b[0m\u001b[1;33m(\u001b[0m\u001b[0mkey\u001b[0m\u001b[1;33m,\u001b[0m \u001b[0maxis\u001b[0m\u001b[1;33m=\u001b[0m\u001b[1;36m1\u001b[0m\u001b[1;33m,\u001b[0m \u001b[0mraise_missing\u001b[0m\u001b[1;33m=\u001b[0m\u001b[1;32mTrue\u001b[0m\u001b[1;33m)\u001b[0m\u001b[1;33m[\u001b[0m\u001b[1;36m1\u001b[0m\u001b[1;33m]\u001b[0m\u001b[1;33m\u001b[0m\u001b[1;33m\u001b[0m\u001b[0m\n\u001b[0m\u001b[0;32m   2909\u001b[0m \u001b[1;33m\u001b[0m\u001b[0m\n",
      "\u001b[1;32mC:\\ProgramData\\Anaconda3\\lib\\site-packages\\pandas\\core\\indexing.py\u001b[0m in \u001b[0;36m_get_listlike_indexer\u001b[1;34m(self, key, axis, raise_missing)\u001b[0m\n\u001b[0;32m   1253\u001b[0m \u001b[1;33m\u001b[0m\u001b[0m\n\u001b[1;32m-> 1254\u001b[1;33m         \u001b[0mself\u001b[0m\u001b[1;33m.\u001b[0m\u001b[0m_validate_read_indexer\u001b[0m\u001b[1;33m(\u001b[0m\u001b[0mkeyarr\u001b[0m\u001b[1;33m,\u001b[0m \u001b[0mindexer\u001b[0m\u001b[1;33m,\u001b[0m \u001b[0maxis\u001b[0m\u001b[1;33m,\u001b[0m \u001b[0mraise_missing\u001b[0m\u001b[1;33m=\u001b[0m\u001b[0mraise_missing\u001b[0m\u001b[1;33m)\u001b[0m\u001b[1;33m\u001b[0m\u001b[1;33m\u001b[0m\u001b[0m\n\u001b[0m\u001b[0;32m   1255\u001b[0m         \u001b[1;32mreturn\u001b[0m \u001b[0mkeyarr\u001b[0m\u001b[1;33m,\u001b[0m \u001b[0mindexer\u001b[0m\u001b[1;33m\u001b[0m\u001b[1;33m\u001b[0m\u001b[0m\n",
      "\u001b[1;32mC:\\ProgramData\\Anaconda3\\lib\\site-packages\\pandas\\core\\indexing.py\u001b[0m in \u001b[0;36m_validate_read_indexer\u001b[1;34m(self, key, indexer, axis, raise_missing)\u001b[0m\n\u001b[0;32m   1297\u001b[0m                 \u001b[0maxis_name\u001b[0m \u001b[1;33m=\u001b[0m \u001b[0mself\u001b[0m\u001b[1;33m.\u001b[0m\u001b[0mobj\u001b[0m\u001b[1;33m.\u001b[0m\u001b[0m_get_axis_name\u001b[0m\u001b[1;33m(\u001b[0m\u001b[0maxis\u001b[0m\u001b[1;33m)\u001b[0m\u001b[1;33m\u001b[0m\u001b[1;33m\u001b[0m\u001b[0m\n\u001b[1;32m-> 1298\u001b[1;33m                 \u001b[1;32mraise\u001b[0m \u001b[0mKeyError\u001b[0m\u001b[1;33m(\u001b[0m\u001b[1;34mf\"None of [{key}] are in the [{axis_name}]\"\u001b[0m\u001b[1;33m)\u001b[0m\u001b[1;33m\u001b[0m\u001b[1;33m\u001b[0m\u001b[0m\n\u001b[0m\u001b[0;32m   1299\u001b[0m \u001b[1;33m\u001b[0m\u001b[0m\n",
      "\u001b[1;31mKeyError\u001b[0m: 'None of [RangeIndex(start=0, stop=236, step=1)] are in the [columns]'",
      "\nThe above exception was the direct cause of the following exception:\n",
      "\u001b[1;31mNetworkXError\u001b[0m                             Traceback (most recent call last)",
      "\u001b[1;32m<ipython-input-30-8485714706b5>\u001b[0m in \u001b[0;36m<module>\u001b[1;34m\u001b[0m\n\u001b[0;32m      1\u001b[0m \u001b[1;32mimport\u001b[0m \u001b[0mnetworkx\u001b[0m \u001b[1;32mas\u001b[0m \u001b[0mnx\u001b[0m\u001b[1;33m\u001b[0m\u001b[1;33m\u001b[0m\u001b[0m\n\u001b[0;32m      2\u001b[0m \u001b[1;33m\u001b[0m\u001b[0m\n\u001b[1;32m----> 3\u001b[1;33m \u001b[0mG\u001b[0m \u001b[1;33m=\u001b[0m \u001b[0mnx\u001b[0m\u001b[1;33m.\u001b[0m\u001b[0mfrom_pandas_adjacency\u001b[0m\u001b[1;33m(\u001b[0m\u001b[0mCareDist\u001b[0m\u001b[1;33m)\u001b[0m\u001b[1;33m\u001b[0m\u001b[1;33m\u001b[0m\u001b[0m\n\u001b[0m\u001b[0;32m      4\u001b[0m \u001b[0mweights\u001b[0m \u001b[1;33m=\u001b[0m \u001b[0mnx\u001b[0m\u001b[1;33m.\u001b[0m\u001b[0mget_edge_attributes\u001b[0m\u001b[1;33m(\u001b[0m\u001b[0mG\u001b[0m\u001b[1;33m,\u001b[0m \u001b[1;34m'weight'\u001b[0m\u001b[1;33m)\u001b[0m\u001b[1;33m\u001b[0m\u001b[1;33m\u001b[0m\u001b[0m\n",
      "\u001b[1;32mC:\\ProgramData\\Anaconda3\\lib\\site-packages\\networkx\\convert_matrix.py\u001b[0m in \u001b[0;36mfrom_pandas_adjacency\u001b[1;34m(df, create_using)\u001b[0m\n\u001b[0;32m    204\u001b[0m         \u001b[0mmissing\u001b[0m \u001b[1;33m=\u001b[0m \u001b[0mlist\u001b[0m\u001b[1;33m(\u001b[0m\u001b[0mset\u001b[0m\u001b[1;33m(\u001b[0m\u001b[0mdf\u001b[0m\u001b[1;33m.\u001b[0m\u001b[0mindex\u001b[0m\u001b[1;33m)\u001b[0m\u001b[1;33m.\u001b[0m\u001b[0mdifference\u001b[0m\u001b[1;33m(\u001b[0m\u001b[0mset\u001b[0m\u001b[1;33m(\u001b[0m\u001b[0mdf\u001b[0m\u001b[1;33m.\u001b[0m\u001b[0mcolumns\u001b[0m\u001b[1;33m)\u001b[0m\u001b[1;33m)\u001b[0m\u001b[1;33m)\u001b[0m\u001b[1;33m\u001b[0m\u001b[1;33m\u001b[0m\u001b[0m\n\u001b[0;32m    205\u001b[0m         \u001b[0mmsg\u001b[0m \u001b[1;33m=\u001b[0m \u001b[1;34mf\"{missing} not in columns\"\u001b[0m\u001b[1;33m\u001b[0m\u001b[1;33m\u001b[0m\u001b[0m\n\u001b[1;32m--> 206\u001b[1;33m         \u001b[1;32mraise\u001b[0m \u001b[0mnx\u001b[0m\u001b[1;33m.\u001b[0m\u001b[0mNetworkXError\u001b[0m\u001b[1;33m(\u001b[0m\u001b[1;34m\"Columns must match Indices.\"\u001b[0m\u001b[1;33m,\u001b[0m \u001b[0mmsg\u001b[0m\u001b[1;33m)\u001b[0m \u001b[1;32mfrom\u001b[0m \u001b[0me\u001b[0m\u001b[1;33m\u001b[0m\u001b[1;33m\u001b[0m\u001b[0m\n\u001b[0m\u001b[0;32m    207\u001b[0m \u001b[1;33m\u001b[0m\u001b[0m\n\u001b[0;32m    208\u001b[0m     \u001b[0mA\u001b[0m \u001b[1;33m=\u001b[0m \u001b[0mdf\u001b[0m\u001b[1;33m.\u001b[0m\u001b[0mvalues\u001b[0m\u001b[1;33m\u001b[0m\u001b[1;33m\u001b[0m\u001b[0m\n",
      "\u001b[1;31mNetworkXError\u001b[0m: ('Columns must match Indices.', '[0, 1, 2, 3, 4, 5, 6, 7, 8, 9, 10, 11, 12, 13, 14, 15, 16, 17, 18, 19, 20, 21, 22, 23, 24, 25, 26, 27, 28, 29, 30, 31, 32, 33, 34, 35, 36, 37, 38, 39, 40, 41, 42, 43, 44, 45, 46, 47, 48, 49, 50, 51, 52, 53, 54, 55, 56, 57, 58, 59, 60, 61, 62, 63, 64, 65, 66, 67, 68, 69, 70, 71, 72, 73, 74, 75, 76, 77, 78, 79, 80, 81, 82, 83, 84, 85, 86, 87, 88, 89, 90, 91, 92, 93, 94, 95, 96, 97, 98, 99, 100, 101, 102, 103, 104, 105, 106, 107, 108, 109, 110, 111, 112, 113, 114, 115, 116, 117, 118, 119, 120, 121, 122, 123, 124, 125, 126, 127, 128, 129, 130, 131, 132, 133, 134, 135, 136, 137, 138, 139, 140, 141, 142, 143, 144, 145, 146, 147, 148, 149, 150, 151, 152, 153, 154, 155, 156, 157, 158, 159, 160, 161, 162, 163, 164, 165, 166, 167, 168, 169, 170, 171, 172, 173, 174, 175, 176, 177, 178, 179, 180, 181, 182, 183, 184, 185, 186, 187, 188, 189, 190, 191, 192, 193, 194, 195, 196, 197, 198, 199, 200, 201, 202, 203, 204, 205, 206, 207, 208, 209, 210, 211, 212, 213, 214, 215, 216, 217, 218, 219, 220, 221, 222, 223, 224, 225, 226, 227, 228, 229, 230, 231, 232, 233, 234, 235] not in columns')"
     ]
    }
   ],
   "source": [
    "import networkx as nx\n",
    "\n",
    "G = nx.from_pandas_adjacency(CareDist)\n",
    "weights = nx.get_edge_attributes(G, 'weight')\n"
   ]
  },
  {
   "cell_type": "code",
   "execution_count": 26,
   "metadata": {},
   "outputs": [
    {
     "ename": "NameError",
     "evalue": "name 'weights' is not defined",
     "output_type": "error",
     "traceback": [
      "\u001b[1;31m---------------------------------------------------------------------------\u001b[0m",
      "\u001b[1;31mNameError\u001b[0m                                 Traceback (most recent call last)",
      "\u001b[1;32m<ipython-input-26-c4e0271c4c0f>\u001b[0m in \u001b[0;36m<module>\u001b[1;34m\u001b[0m\n\u001b[1;32m----> 1\u001b[1;33m (pd.DataFrame(weights.keys(), columns=['node1', 'node2'])\n\u001b[0m\u001b[0;32m      2\u001b[0m     .assign(Distance=weights.values()))\n",
      "\u001b[1;31mNameError\u001b[0m: name 'weights' is not defined"
     ]
    }
   ],
   "source": [
    "(pd.DataFrame(weights.keys(), columns=['node1', 'node2'])\n",
    "    .assign(Distance=weights.values()))"
   ]
  },
  {
   "cell_type": "code",
   "execution_count": null,
   "metadata": {},
   "outputs": [],
   "source": []
  },
  {
   "cell_type": "code",
   "execution_count": 31,
   "metadata": {},
   "outputs": [
    {
     "name": "stdout",
     "output_type": "stream",
     "text": [
      "     UserID  Duration (minutes)\n",
      "0         4                   9\n",
      "1        38                   8\n",
      "2        90                  10\n",
      "3        94                  29\n",
      "4       101                  21\n",
      "..      ...                 ...\n",
      "225    8300                  29\n",
      "226    8358                  20\n",
      "227    8360                  22\n",
      "228    8507                  27\n",
      "229    8545                  17\n",
      "\n",
      "[230 rows x 2 columns]\n"
     ]
    }
   ],
   "source": [
    "CareDur = pd.read_csv (r'CareDurations.txt', header=0, delimiter='\t')\n",
    "print (CareDur)"
   ]
  },
  {
   "cell_type": "code",
   "execution_count": 32,
   "metadata": {},
   "outputs": [],
   "source": [
    "CareDist = pd.merge(Expanded_CareDist, CareDur, left_on='Node1', right_on='UserID')\n",
    "CareDist.drop([\"UserID\"], axis=1, inplace=True)"
   ]
  },
  {
   "cell_type": "code",
   "execution_count": 33,
   "metadata": {},
   "outputs": [],
   "source": [
    "CareDist['Duration (seconds)'] = CareDist['Duration (minutes)'] * 60\n",
    "CareDist.drop([\"Duration (minutes)\"], axis=1, inplace=True)"
   ]
  },
  {
   "cell_type": "code",
   "execution_count": 34,
   "metadata": {},
   "outputs": [
    {
     "data": {
      "text/html": [
       "<div>\n",
       "<style scoped>\n",
       "    .dataframe tbody tr th:only-of-type {\n",
       "        vertical-align: middle;\n",
       "    }\n",
       "\n",
       "    .dataframe tbody tr th {\n",
       "        vertical-align: top;\n",
       "    }\n",
       "\n",
       "    .dataframe thead th {\n",
       "        text-align: right;\n",
       "    }\n",
       "</style>\n",
       "<table border=\"1\" class=\"dataframe\">\n",
       "  <thead>\n",
       "    <tr style=\"text-align: right;\">\n",
       "      <th></th>\n",
       "      <th>Node1</th>\n",
       "      <th>Node2</th>\n",
       "      <th>Distance</th>\n",
       "      <th>Duration (seconds)</th>\n",
       "    </tr>\n",
       "  </thead>\n",
       "  <tbody>\n",
       "    <tr>\n",
       "      <th>0</th>\n",
       "      <td>4</td>\n",
       "      <td>4</td>\n",
       "      <td>0</td>\n",
       "      <td>540</td>\n",
       "    </tr>\n",
       "    <tr>\n",
       "      <th>1</th>\n",
       "      <td>4</td>\n",
       "      <td>38</td>\n",
       "      <td>1280</td>\n",
       "      <td>540</td>\n",
       "    </tr>\n",
       "    <tr>\n",
       "      <th>2</th>\n",
       "      <td>4</td>\n",
       "      <td>71</td>\n",
       "      <td>1762</td>\n",
       "      <td>540</td>\n",
       "    </tr>\n",
       "    <tr>\n",
       "      <th>3</th>\n",
       "      <td>4</td>\n",
       "      <td>90</td>\n",
       "      <td>1406</td>\n",
       "      <td>540</td>\n",
       "    </tr>\n",
       "    <tr>\n",
       "      <th>4</th>\n",
       "      <td>4</td>\n",
       "      <td>94</td>\n",
       "      <td>1589</td>\n",
       "      <td>540</td>\n",
       "    </tr>\n",
       "    <tr>\n",
       "      <th>...</th>\n",
       "      <td>...</td>\n",
       "      <td>...</td>\n",
       "      <td>...</td>\n",
       "      <td>...</td>\n",
       "    </tr>\n",
       "    <tr>\n",
       "      <th>54275</th>\n",
       "      <td>8545</td>\n",
       "      <td>8300</td>\n",
       "      <td>1915</td>\n",
       "      <td>1020</td>\n",
       "    </tr>\n",
       "    <tr>\n",
       "      <th>54276</th>\n",
       "      <td>8545</td>\n",
       "      <td>8358</td>\n",
       "      <td>335</td>\n",
       "      <td>1020</td>\n",
       "    </tr>\n",
       "    <tr>\n",
       "      <th>54277</th>\n",
       "      <td>8545</td>\n",
       "      <td>8360</td>\n",
       "      <td>1449</td>\n",
       "      <td>1020</td>\n",
       "    </tr>\n",
       "    <tr>\n",
       "      <th>54278</th>\n",
       "      <td>8545</td>\n",
       "      <td>8507</td>\n",
       "      <td>82</td>\n",
       "      <td>1020</td>\n",
       "    </tr>\n",
       "    <tr>\n",
       "      <th>54279</th>\n",
       "      <td>8545</td>\n",
       "      <td>8545</td>\n",
       "      <td>0</td>\n",
       "      <td>1020</td>\n",
       "    </tr>\n",
       "  </tbody>\n",
       "</table>\n",
       "<p>54280 rows × 4 columns</p>\n",
       "</div>"
      ],
      "text/plain": [
       "       Node1 Node2  Distance  Duration (seconds)\n",
       "0          4     4         0                 540\n",
       "1          4    38      1280                 540\n",
       "2          4    71      1762                 540\n",
       "3          4    90      1406                 540\n",
       "4          4    94      1589                 540\n",
       "...      ...   ...       ...                 ...\n",
       "54275   8545  8300      1915                1020\n",
       "54276   8545  8358       335                1020\n",
       "54277   8545  8360      1449                1020\n",
       "54278   8545  8507        82                1020\n",
       "54279   8545  8545         0                1020\n",
       "\n",
       "[54280 rows x 4 columns]"
      ]
     },
     "execution_count": 34,
     "metadata": {},
     "output_type": "execute_result"
    }
   ],
   "source": [
    "Care = CareDist\n",
    "Care"
   ]
  },
  {
   "cell_type": "code",
   "execution_count": 35,
   "metadata": {},
   "outputs": [
    {
     "data": {
      "text/html": [
       "<div>\n",
       "<style scoped>\n",
       "    .dataframe tbody tr th:only-of-type {\n",
       "        vertical-align: middle;\n",
       "    }\n",
       "\n",
       "    .dataframe tbody tr th {\n",
       "        vertical-align: top;\n",
       "    }\n",
       "\n",
       "    .dataframe thead th {\n",
       "        text-align: right;\n",
       "    }\n",
       "</style>\n",
       "<table border=\"1\" class=\"dataframe\">\n",
       "  <thead>\n",
       "    <tr style=\"text-align: right;\">\n",
       "      <th></th>\n",
       "      <th>Node1</th>\n",
       "      <th>Node2</th>\n",
       "      <th>Distance (seconds)</th>\n",
       "      <th>Duration (seconds)</th>\n",
       "    </tr>\n",
       "  </thead>\n",
       "  <tbody>\n",
       "    <tr>\n",
       "      <th>1</th>\n",
       "      <td>4</td>\n",
       "      <td>38</td>\n",
       "      <td>1280</td>\n",
       "      <td>540</td>\n",
       "    </tr>\n",
       "    <tr>\n",
       "      <th>2</th>\n",
       "      <td>4</td>\n",
       "      <td>71</td>\n",
       "      <td>1762</td>\n",
       "      <td>540</td>\n",
       "    </tr>\n",
       "    <tr>\n",
       "      <th>3</th>\n",
       "      <td>4</td>\n",
       "      <td>90</td>\n",
       "      <td>1406</td>\n",
       "      <td>540</td>\n",
       "    </tr>\n",
       "    <tr>\n",
       "      <th>4</th>\n",
       "      <td>4</td>\n",
       "      <td>94</td>\n",
       "      <td>1589</td>\n",
       "      <td>540</td>\n",
       "    </tr>\n",
       "    <tr>\n",
       "      <th>5</th>\n",
       "      <td>4</td>\n",
       "      <td>101</td>\n",
       "      <td>1312</td>\n",
       "      <td>540</td>\n",
       "    </tr>\n",
       "  </tbody>\n",
       "</table>\n",
       "</div>"
      ],
      "text/plain": [
       "   Node1 Node2  Distance (seconds)  Duration (seconds)\n",
       "1      4    38                1280                 540\n",
       "2      4    71                1762                 540\n",
       "3      4    90                1406                 540\n",
       "4      4    94                1589                 540\n",
       "5      4   101                1312                 540"
      ]
     },
     "execution_count": 35,
     "metadata": {},
     "output_type": "execute_result"
    }
   ],
   "source": [
    "Edges = Care\n",
    "Edges.drop(Edges[Edges.Distance == 0].index, inplace=True)\n",
    "Edges.rename(columns={'Distance': 'Distance (seconds)'}, inplace=True)\n",
    "Edges.head()"
   ]
  },
  {
   "cell_type": "code",
   "execution_count": 36,
   "metadata": {},
   "outputs": [
    {
     "data": {
      "text/html": [
       "<div>\n",
       "<style scoped>\n",
       "    .dataframe tbody tr th:only-of-type {\n",
       "        vertical-align: middle;\n",
       "    }\n",
       "\n",
       "    .dataframe tbody tr th {\n",
       "        vertical-align: top;\n",
       "    }\n",
       "\n",
       "    .dataframe thead th {\n",
       "        text-align: right;\n",
       "    }\n",
       "</style>\n",
       "<table border=\"1\" class=\"dataframe\">\n",
       "  <thead>\n",
       "    <tr style=\"text-align: right;\">\n",
       "      <th></th>\n",
       "      <th>ID</th>\n",
       "    </tr>\n",
       "  </thead>\n",
       "  <tbody>\n",
       "    <tr>\n",
       "      <th>0</th>\n",
       "      <td>4</td>\n",
       "    </tr>\n",
       "    <tr>\n",
       "      <th>1</th>\n",
       "      <td>38</td>\n",
       "    </tr>\n",
       "    <tr>\n",
       "      <th>2</th>\n",
       "      <td>90</td>\n",
       "    </tr>\n",
       "    <tr>\n",
       "      <th>3</th>\n",
       "      <td>94</td>\n",
       "    </tr>\n",
       "    <tr>\n",
       "      <th>4</th>\n",
       "      <td>101</td>\n",
       "    </tr>\n",
       "    <tr>\n",
       "      <th>...</th>\n",
       "      <td>...</td>\n",
       "    </tr>\n",
       "    <tr>\n",
       "      <th>225</th>\n",
       "      <td>8300</td>\n",
       "    </tr>\n",
       "    <tr>\n",
       "      <th>226</th>\n",
       "      <td>8358</td>\n",
       "    </tr>\n",
       "    <tr>\n",
       "      <th>227</th>\n",
       "      <td>8360</td>\n",
       "    </tr>\n",
       "    <tr>\n",
       "      <th>228</th>\n",
       "      <td>8507</td>\n",
       "    </tr>\n",
       "    <tr>\n",
       "      <th>229</th>\n",
       "      <td>8545</td>\n",
       "    </tr>\n",
       "  </tbody>\n",
       "</table>\n",
       "<p>230 rows × 1 columns</p>\n",
       "</div>"
      ],
      "text/plain": [
       "       ID\n",
       "0       4\n",
       "1      38\n",
       "2      90\n",
       "3      94\n",
       "4     101\n",
       "..    ...\n",
       "225  8300\n",
       "226  8358\n",
       "227  8360\n",
       "228  8507\n",
       "229  8545\n",
       "\n",
       "[230 rows x 1 columns]"
      ]
     },
     "execution_count": 36,
     "metadata": {},
     "output_type": "execute_result"
    }
   ],
   "source": [
    "Nodes = CareDist['Node1'].unique()\n",
    "Nodes = pd.DataFrame(Nodes, columns = ['ID'])\n",
    "Nodes"
   ]
  },
  {
   "cell_type": "code",
   "execution_count": 37,
   "metadata": {},
   "outputs": [],
   "source": [
    "# Create empty graph\n",
    "Care_graph = nx.Graph()"
   ]
  },
  {
   "cell_type": "code",
   "execution_count": 38,
   "metadata": {},
   "outputs": [],
   "source": [
    "# Add edges and edge attributes\n",
    "for i, elrow in Edges.iterrows():\n",
    "    Care_graph.add_edge(elrow[0], elrow[1], attr_dict=elrow[2:].to_dict())"
   ]
  },
  {
   "cell_type": "code",
   "execution_count": 39,
   "metadata": {},
   "outputs": [
    {
     "name": "stdout",
     "output_type": "stream",
     "text": [
      "8545\n",
      "8507\n",
      "{'Distance (seconds)': 82, 'Duration (seconds)': 1020}\n"
     ]
    }
   ],
   "source": [
    "# Edge list example\n",
    "print(elrow[0]) # node1\n",
    "print(elrow[1]) # node2\n",
    "print(elrow[2:].to_dict()) # edge attribute dict"
   ]
  },
  {
   "cell_type": "code",
   "execution_count": 40,
   "metadata": {},
   "outputs": [],
   "source": [
    "# Add node attributes\n",
    "for i, nlrow in Nodes.iterrows():\n",
    "    Care_graph.nodes[nlrow['ID']].update(nlrow[1:].to_dict())"
   ]
  },
  {
   "cell_type": "code",
   "execution_count": 41,
   "metadata": {},
   "outputs": [
    {
     "name": "stdout",
     "output_type": "stream",
     "text": [
      "ID    8545\n",
      "Name: 229, dtype: int64\n"
     ]
    }
   ],
   "source": [
    "# Node list example\n",
    "print(nlrow)"
   ]
  },
  {
   "cell_type": "code",
   "execution_count": 42,
   "metadata": {},
   "outputs": [
    {
     "data": {
      "text/plain": [
       "[(4,\n",
       "  '38',\n",
       "  {'attr_dict': {'Distance (seconds)': 1280, 'Duration (seconds)': 540}}),\n",
       " (4,\n",
       "  '71',\n",
       "  {'attr_dict': {'Distance (seconds)': 1762, 'Duration (seconds)': 540}}),\n",
       " (4,\n",
       "  '90',\n",
       "  {'attr_dict': {'Distance (seconds)': 1406, 'Duration (seconds)': 540}}),\n",
       " (4,\n",
       "  '94',\n",
       "  {'attr_dict': {'Distance (seconds)': 1589, 'Duration (seconds)': 540}}),\n",
       " (4,\n",
       "  '101',\n",
       "  {'attr_dict': {'Distance (seconds)': 1312, 'Duration (seconds)': 540}})]"
      ]
     },
     "execution_count": 42,
     "metadata": {},
     "output_type": "execute_result"
    }
   ],
   "source": [
    "# Preview first 5 edges\n",
    "list(Care_graph.edges(data=True))[0:5]"
   ]
  },
  {
   "cell_type": "code",
   "execution_count": 43,
   "metadata": {},
   "outputs": [
    {
     "data": {
      "text/plain": [
       "[(4, {}),\n",
       " ('38', {}),\n",
       " ('71', {}),\n",
       " ('90', {}),\n",
       " ('94', {}),\n",
       " ('101', {}),\n",
       " ('142', {}),\n",
       " ('163', {}),\n",
       " ('164', {}),\n",
       " ('196', {})]"
      ]
     },
     "execution_count": 43,
     "metadata": {},
     "output_type": "execute_result"
    }
   ],
   "source": [
    "# Preview first 10 nodes\n",
    "list(Care_graph.nodes(data=True))[0:10]"
   ]
  },
  {
   "cell_type": "code",
   "execution_count": 50,
   "metadata": {},
   "outputs": [],
   "source": [
    "class City:\n",
    "    def __init__(self,x,y,num):\n",
    "        self.x = x\n",
    "        self.y = y\n",
    "        self.number = num #identifying number\n",
    "        \n",
    "    def display(self):\n",
    "        fill(0,255,255) #sky blue\n",
    "        ellipse(self.x,self.y,10,10)\n",
    "        noFill()"
   ]
  },
  {
   "cell_type": "code",
   "execution_count": 52,
   "metadata": {},
   "outputs": [
    {
     "name": "stdout",
     "output_type": "stream",
     "text": [
      "Collecting ortools\n",
      "  Downloading ortools-8.2.8710-cp38-cp38-win_amd64.whl (42.3 MB)\n",
      "Requirement already satisfied, skipping upgrade: protobuf>=3.14.0 in c:\\programdata\\anaconda3\\lib\\site-packages (from ortools) (3.15.7)\n",
      "Requirement already satisfied, skipping upgrade: absl-py>=0.11 in c:\\programdata\\anaconda3\\lib\\site-packages (from ortools) (0.12.0)\n",
      "Requirement already satisfied, skipping upgrade: six>=1.9 in c:\\programdata\\anaconda3\\lib\\site-packages (from protobuf>=3.14.0->ortools) (1.15.0)\n",
      "Installing collected packages: ortools\n",
      "Successfully installed ortools-8.2.8710\n"
     ]
    }
   ],
   "source": [
    "!pip install --upgrade --user ortools"
   ]
  },
  {
   "cell_type": "code",
   "execution_count": 51,
   "metadata": {},
   "outputs": [
    {
     "ename": "NameError",
     "evalue": "name 'size' is not defined",
     "output_type": "error",
     "traceback": [
      "\u001b[1;31m---------------------------------------------------------------------------\u001b[0m",
      "\u001b[1;31mNameError\u001b[0m                                 Traceback (most recent call last)",
      "\u001b[1;32m<ipython-input-51-fbd47a960584>\u001b[0m in \u001b[0;36m<module>\u001b[1;34m\u001b[0m\n\u001b[0;32m      5\u001b[0m     \u001b[0mcity0\u001b[0m\u001b[1;33m.\u001b[0m\u001b[0mdisplay\u001b[0m\u001b[1;33m(\u001b[0m\u001b[1;33m)\u001b[0m\u001b[1;33m\u001b[0m\u001b[1;33m\u001b[0m\u001b[0m\n\u001b[0;32m      6\u001b[0m \u001b[1;33m\u001b[0m\u001b[0m\n\u001b[1;32m----> 7\u001b[1;33m \u001b[0msetup\u001b[0m\u001b[1;33m(\u001b[0m\u001b[1;33m)\u001b[0m\u001b[1;33m\u001b[0m\u001b[1;33m\u001b[0m\u001b[0m\n\u001b[0m",
      "\u001b[1;32m<ipython-input-51-fbd47a960584>\u001b[0m in \u001b[0;36msetup\u001b[1;34m()\u001b[0m\n\u001b[0;32m      1\u001b[0m \u001b[1;32mdef\u001b[0m \u001b[0msetup\u001b[0m\u001b[1;33m(\u001b[0m\u001b[1;33m)\u001b[0m\u001b[1;33m:\u001b[0m\u001b[1;33m\u001b[0m\u001b[1;33m\u001b[0m\u001b[0m\n\u001b[1;32m----> 2\u001b[1;33m     \u001b[0msize\u001b[0m\u001b[1;33m(\u001b[0m\u001b[1;36m600\u001b[0m\u001b[1;33m,\u001b[0m\u001b[1;36m600\u001b[0m\u001b[1;33m)\u001b[0m\u001b[1;33m\u001b[0m\u001b[1;33m\u001b[0m\u001b[0m\n\u001b[0m\u001b[0;32m      3\u001b[0m     \u001b[0mbackground\u001b[0m\u001b[1;33m(\u001b[0m\u001b[1;36m0\u001b[0m\u001b[1;33m)\u001b[0m\u001b[1;33m\u001b[0m\u001b[1;33m\u001b[0m\u001b[0m\n\u001b[0;32m      4\u001b[0m     \u001b[0mcity0\u001b[0m \u001b[1;33m=\u001b[0m \u001b[0mCity\u001b[0m\u001b[1;33m(\u001b[0m\u001b[1;36m100\u001b[0m\u001b[1;33m,\u001b[0m\u001b[1;36m200\u001b[0m\u001b[1;33m,\u001b[0m\u001b[1;36m0\u001b[0m\u001b[1;33m)\u001b[0m\u001b[1;33m\u001b[0m\u001b[1;33m\u001b[0m\u001b[0m\n\u001b[0;32m      5\u001b[0m     \u001b[0mcity0\u001b[0m\u001b[1;33m.\u001b[0m\u001b[0mdisplay\u001b[0m\u001b[1;33m(\u001b[0m\u001b[1;33m)\u001b[0m\u001b[1;33m\u001b[0m\u001b[1;33m\u001b[0m\u001b[0m\n",
      "\u001b[1;31mNameError\u001b[0m: name 'size' is not defined"
     ]
    }
   ],
   "source": [
    "def setup():\n",
    "    size(600,600)\n",
    "    background(0)\n",
    "    city0 = City(100,200,0)\n",
    "    city0.display()\n",
    "\n",
    "setup()"
   ]
  },
  {
   "cell_type": "code",
   "execution_count": null,
   "metadata": {},
   "outputs": [],
   "source": []
  },
  {
   "cell_type": "code",
   "execution_count": null,
   "metadata": {},
   "outputs": [],
   "source": []
  },
  {
   "cell_type": "code",
   "execution_count": null,
   "metadata": {},
   "outputs": [],
   "source": []
  },
  {
   "cell_type": "code",
   "execution_count": null,
   "metadata": {},
   "outputs": [],
   "source": []
  },
  {
   "cell_type": "code",
   "execution_count": null,
   "metadata": {},
   "outputs": [],
   "source": []
  },
  {
   "cell_type": "code",
   "execution_count": null,
   "metadata": {},
   "outputs": [],
   "source": []
  },
  {
   "cell_type": "markdown",
   "metadata": {},
   "source": [
    "# Graph Optimization with NetworkX in Python Tutorial"
   ]
  },
  {
   "cell_type": "code",
   "execution_count": 101,
   "metadata": {},
   "outputs": [
    {
     "data": {
      "text/html": [
       "<div>\n",
       "<style scoped>\n",
       "    .dataframe tbody tr th:only-of-type {\n",
       "        vertical-align: middle;\n",
       "    }\n",
       "\n",
       "    .dataframe tbody tr th {\n",
       "        vertical-align: top;\n",
       "    }\n",
       "\n",
       "    .dataframe thead th {\n",
       "        text-align: right;\n",
       "    }\n",
       "</style>\n",
       "<table border=\"1\" class=\"dataframe\">\n",
       "  <thead>\n",
       "    <tr style=\"text-align: right;\">\n",
       "      <th></th>\n",
       "      <th>node1</th>\n",
       "      <th>node2</th>\n",
       "      <th>trail</th>\n",
       "      <th>distance</th>\n",
       "      <th>color</th>\n",
       "      <th>estimate</th>\n",
       "    </tr>\n",
       "  </thead>\n",
       "  <tbody>\n",
       "    <tr>\n",
       "      <td>0</td>\n",
       "      <td>rs_end_north</td>\n",
       "      <td>v_rs</td>\n",
       "      <td>rs</td>\n",
       "      <td>0.30</td>\n",
       "      <td>red</td>\n",
       "      <td>0</td>\n",
       "    </tr>\n",
       "    <tr>\n",
       "      <td>1</td>\n",
       "      <td>v_rs</td>\n",
       "      <td>b_rs</td>\n",
       "      <td>rs</td>\n",
       "      <td>0.21</td>\n",
       "      <td>red</td>\n",
       "      <td>0</td>\n",
       "    </tr>\n",
       "    <tr>\n",
       "      <td>2</td>\n",
       "      <td>b_rs</td>\n",
       "      <td>g_rs</td>\n",
       "      <td>rs</td>\n",
       "      <td>0.11</td>\n",
       "      <td>red</td>\n",
       "      <td>0</td>\n",
       "    </tr>\n",
       "    <tr>\n",
       "      <td>3</td>\n",
       "      <td>g_rs</td>\n",
       "      <td>w_rs</td>\n",
       "      <td>rs</td>\n",
       "      <td>0.18</td>\n",
       "      <td>red</td>\n",
       "      <td>0</td>\n",
       "    </tr>\n",
       "    <tr>\n",
       "      <td>4</td>\n",
       "      <td>w_rs</td>\n",
       "      <td>o_rs</td>\n",
       "      <td>rs</td>\n",
       "      <td>0.21</td>\n",
       "      <td>red</td>\n",
       "      <td>0</td>\n",
       "    </tr>\n",
       "  </tbody>\n",
       "</table>\n",
       "</div>"
      ],
      "text/plain": [
       "          node1 node2 trail  distance color  estimate\n",
       "0  rs_end_north  v_rs    rs      0.30   red         0\n",
       "1          v_rs  b_rs    rs      0.21   red         0\n",
       "2          b_rs  g_rs    rs      0.11   red         0\n",
       "3          g_rs  w_rs    rs      0.18   red         0\n",
       "4          w_rs  o_rs    rs      0.21   red         0"
      ]
     },
     "execution_count": 101,
     "metadata": {},
     "output_type": "execute_result"
    }
   ],
   "source": [
    "pip install --upgrade --user ortools# Grab edge list data hosted on Gist\n",
    "edgelist = pd.read_csv('https://gist.githubusercontent.com/brooksandrew/e570c38bcc72a8d102422f2af836513b/raw/89c76b2563dbc0e88384719a35cba0dfc04cd522/edgelist_sleeping_giant.csv')\n",
    "edgelist.head()"
   ]
  },
  {
   "cell_type": "code",
   "execution_count": 48,
   "metadata": {},
   "outputs": [
    {
     "data": {
      "text/html": [
       "<div>\n",
       "<style scoped>\n",
       "    .dataframe tbody tr th:only-of-type {\n",
       "        vertical-align: middle;\n",
       "    }\n",
       "\n",
       "    .dataframe tbody tr th {\n",
       "        vertical-align: top;\n",
       "    }\n",
       "\n",
       "    .dataframe thead th {\n",
       "        text-align: right;\n",
       "    }\n",
       "</style>\n",
       "<table border=\"1\" class=\"dataframe\">\n",
       "  <thead>\n",
       "    <tr style=\"text-align: right;\">\n",
       "      <th></th>\n",
       "      <th>id</th>\n",
       "      <th>X</th>\n",
       "      <th>Y</th>\n",
       "    </tr>\n",
       "  </thead>\n",
       "  <tbody>\n",
       "    <tr>\n",
       "      <td>0</td>\n",
       "      <td>b_bv</td>\n",
       "      <td>1486</td>\n",
       "      <td>732</td>\n",
       "    </tr>\n",
       "    <tr>\n",
       "      <td>1</td>\n",
       "      <td>b_bw</td>\n",
       "      <td>716</td>\n",
       "      <td>1357</td>\n",
       "    </tr>\n",
       "    <tr>\n",
       "      <td>2</td>\n",
       "      <td>b_end_east</td>\n",
       "      <td>3164</td>\n",
       "      <td>1111</td>\n",
       "    </tr>\n",
       "    <tr>\n",
       "      <td>3</td>\n",
       "      <td>b_end_west</td>\n",
       "      <td>141</td>\n",
       "      <td>1938</td>\n",
       "    </tr>\n",
       "    <tr>\n",
       "      <td>4</td>\n",
       "      <td>b_g</td>\n",
       "      <td>1725</td>\n",
       "      <td>771</td>\n",
       "    </tr>\n",
       "  </tbody>\n",
       "</table>\n",
       "</div>"
      ],
      "text/plain": [
       "           id     X     Y\n",
       "0        b_bv  1486   732\n",
       "1        b_bw   716  1357\n",
       "2  b_end_east  3164  1111\n",
       "3  b_end_west   141  1938\n",
       "4         b_g  1725   771"
      ]
     },
     "execution_count": 48,
     "metadata": {},
     "output_type": "execute_result"
    }
   ],
   "source": [
    "nodelist = pd.read_csv('https://gist.githubusercontent.com/brooksandrew/f989e10af17fb4c85b11409fea47895b/raw/a3a8da0fa5b094f1ca9d82e1642b384889ae16e8/nodelist_sleeping_giant.csv')\n",
    "nodelist.head()"
   ]
  },
  {
   "cell_type": "code",
   "execution_count": 49,
   "metadata": {},
   "outputs": [],
   "source": [
    "# Create empty graph\n",
    "g = nx.Graph()"
   ]
  },
  {
   "cell_type": "code",
   "execution_count": 50,
   "metadata": {},
   "outputs": [],
   "source": [
    "# Add edges and edge attributes\n",
    "for i, elrow in edgelist.iterrows():\n",
    "    g.add_edge(elrow[0], elrow[1], attr_dict=elrow[2:].to_dict())"
   ]
  },
  {
   "cell_type": "code",
   "execution_count": 51,
   "metadata": {},
   "outputs": [
    {
     "name": "stdout",
     "output_type": "stream",
     "text": [
      "o_gy2\n",
      "y_gy2\n",
      "{'trail': 'gy2', 'distance': 0.12, 'color': 'yellowgreen', 'estimate': 0}\n"
     ]
    }
   ],
   "source": [
    "# Edge list example\n",
    "print(elrow[0]) # node1\n",
    "print(elrow[1]) # node2\n",
    "print(elrow[2:].to_dict()) # edge attribute dict"
   ]
  },
  {
   "cell_type": "code",
   "execution_count": 52,
   "metadata": {},
   "outputs": [],
   "source": [
    "# Add node attributes\n",
    "for i, nlrow in nodelist.iterrows():\n",
    "    g.nodes[nlrow['id']].update(nlrow[1:].to_dict())"
   ]
  },
  {
   "cell_type": "code",
   "execution_count": 53,
   "metadata": {},
   "outputs": [
    {
     "name": "stdout",
     "output_type": "stream",
     "text": [
      "id    y_rt\n",
      "X      977\n",
      "Y     1666\n",
      "Name: 76, dtype: object\n"
     ]
    }
   ],
   "source": [
    "# Node list example\n",
    "print(nlrow)"
   ]
  },
  {
   "cell_type": "markdown",
   "metadata": {},
   "source": [
    "# Inspect Graph\n",
    "## Edges\n",
    "\n",
    "Your graph edges are represented by a list of tuples of length 3. The first two elements are the node names linked by the edge. The third is the dictionary of edge attributes."
   ]
  },
  {
   "cell_type": "code",
   "execution_count": 54,
   "metadata": {},
   "outputs": [
    {
     "data": {
      "text/plain": [
       "[('rs_end_north',\n",
       "  'v_rs',\n",
       "  {'attr_dict': {'trail': 'rs',\n",
       "    'distance': 0.3,\n",
       "    'color': 'red',\n",
       "    'estimate': 0}}),\n",
       " ('v_rs',\n",
       "  'b_rs',\n",
       "  {'attr_dict': {'trail': 'rs',\n",
       "    'distance': 0.21,\n",
       "    'color': 'red',\n",
       "    'estimate': 0}}),\n",
       " ('v_rs',\n",
       "  'v_bv',\n",
       "  {'attr_dict': {'trail': 'v',\n",
       "    'distance': 0.52,\n",
       "    'color': 'violet',\n",
       "    'estimate': 0}}),\n",
       " ('v_rs',\n",
       "  'v_end_east',\n",
       "  {'attr_dict': {'trail': 'v',\n",
       "    'distance': 0.54,\n",
       "    'color': 'violet',\n",
       "    'estimate': 0}}),\n",
       " ('b_rs',\n",
       "  'g_rs',\n",
       "  {'attr_dict': {'trail': 'rs',\n",
       "    'distance': 0.11,\n",
       "    'color': 'red',\n",
       "    'estimate': 0}})]"
      ]
     },
     "execution_count": 54,
     "metadata": {},
     "output_type": "execute_result"
    }
   ],
   "source": [
    "# Preview first 5 edges\n",
    "list(g.edges(data=True))[0:5]"
   ]
  },
  {
   "cell_type": "markdown",
   "metadata": {},
   "source": [
    "## Nodes\n",
    "Similarly, your nodes are represented by a list of tuples of length 2. The first element is the node ID, followed by the dictionary of node attributes."
   ]
  },
  {
   "cell_type": "code",
   "execution_count": 55,
   "metadata": {},
   "outputs": [
    {
     "data": {
      "text/plain": [
       "[('rs_end_north', {'X': 1772, 'Y': 172}),\n",
       " ('v_rs', {'X': 1793, 'Y': 484}),\n",
       " ('b_rs', {'X': 1747, 'Y': 700}),\n",
       " ('g_rs', {'X': 1676, 'Y': 775}),\n",
       " ('w_rs', {'X': 1646, 'Y': 947}),\n",
       " ('o_rs', {'X': 1724, 'Y': 1148}),\n",
       " ('y_rs', {'X': 1805, 'Y': 1246}),\n",
       " ('rs_end_south', {'X': 1865, 'Y': 1598}),\n",
       " ('rc_end_north', {'X': 867, 'Y': 618}),\n",
       " ('v_rc', {'X': 1288, 'Y': 934})]"
      ]
     },
     "execution_count": 55,
     "metadata": {},
     "output_type": "execute_result"
    }
   ],
   "source": [
    "# Preview first 10 nodes\n",
    "list(g.nodes(data=True))[0:10]"
   ]
  },
  {
   "cell_type": "markdown",
   "metadata": {},
   "source": [
    "## Summary Stats\n",
    "Print out some summary statistics before visualizing the graph."
   ]
  },
  {
   "cell_type": "code",
   "execution_count": 56,
   "metadata": {},
   "outputs": [
    {
     "name": "stdout",
     "output_type": "stream",
     "text": [
      "# of edges: 123\n",
      "# of nodes: 77\n"
     ]
    }
   ],
   "source": [
    "print('# of edges: {}'.format(g.number_of_edges()))\n",
    "print('# of nodes: {}'.format(g.number_of_nodes()))"
   ]
  },
  {
   "cell_type": "markdown",
   "metadata": {},
   "source": [
    "# Visualize\n",
    "## Manipulate Colors and Layout\n",
    "**Positions**: First you need to manipulate the node positions from the graph into a dictionary. This will allow you to recreate the graph using the same layout as the actual trail map. Y is negated to transform the Y-axis origin from the topleft to the bottomleft."
   ]
  },
  {
   "cell_type": "code",
   "execution_count": 57,
   "metadata": {},
   "outputs": [
    {
     "data": {
      "text/plain": [
       "{'rs_end_north': (1772, -172),\n",
       " 'v_rs': (1793, -484),\n",
       " 'b_rs': (1747, -700),\n",
       " 'g_rs': (1676, -775),\n",
       " 'w_rs': (1646, -947)}"
      ]
     },
     "execution_count": 57,
     "metadata": {},
     "output_type": "execute_result"
    }
   ],
   "source": [
    "# Define node positions data structure (dict) for plotting\n",
    "node_positions = {node[0]: (node[1]['X'], -node[1]['Y']) for node in g.nodes(data=True)}\n",
    "\n",
    "# Preview of node_positions with a bit of hack (there is no head/slice method for dictionaries).\n",
    "dict(list(node_positions.items())[0:5])"
   ]
  },
  {
   "cell_type": "markdown",
   "metadata": {},
   "source": [
    "# CPP Algorithm"
   ]
  },
  {
   "cell_type": "markdown",
   "metadata": {},
   "source": [
    "# CPP Step 1: Find Nodes of Odd Degree\n",
    "This is a pretty straightforward counting computation. You see that 36 of the 76 nodes have odd degree. These are mostly the dead-end trails (degree 1) and intersections of 3 trails. There are a handful of degree 5 nodes."
   ]
  },
  {
   "cell_type": "code",
   "execution_count": 58,
   "metadata": {},
   "outputs": [
    {
     "data": {
      "text/plain": [
       "['rs_end_north',\n",
       " 'rs_end_south',\n",
       " 'rc_end_north',\n",
       " 'rc_end_south',\n",
       " 'rt_end_north']"
      ]
     },
     "execution_count": 58,
     "metadata": {},
     "output_type": "execute_result"
    }
   ],
   "source": [
    "# Calculate list of nodes with odd degree\n",
    "nodes_odd_degree = [v for v, d in g.degree() if d % 2 == 1]\n",
    "\n",
    "# Preview\n",
    "nodes_odd_degree[0:5]"
   ]
  },
  {
   "cell_type": "code",
   "execution_count": 59,
   "metadata": {},
   "outputs": [
    {
     "name": "stdout",
     "output_type": "stream",
     "text": [
      "Number of nodes of odd degree: 36\n",
      "Number of total nodes: 77\n"
     ]
    }
   ],
   "source": [
    "# Counts\n",
    "print('Number of nodes of odd degree: {}'.format(len(nodes_odd_degree)))\n",
    "print('Number of total nodes: {}'.format(len(g.nodes())))"
   ]
  },
  {
   "cell_type": "markdown",
   "metadata": {},
   "source": [
    "# CPP Step 2: Find Min Distance Pairs\n",
    "This is really the meat of the problem. You'll break it down into 5 parts:\n",
    "\n",
    "1. Compute all possible pairs of odd degree nodes.\n",
    "2. Compute the shortest path between each node pair calculated in 1.\n",
    "3. Create a complete graph connecting every node pair in 1. with shortest path distance attributes calculated in 2.\n",
    "4. Compute a minimum weight matching of the graph calculated in 3. (This boils down to determining how to pair the odd nodes such that the sum of the distance between the pairs is as small as possible).\n",
    "5. Augment the original graph with the shortest paths between the node pairs calculated in 4."
   ]
  },
  {
   "cell_type": "markdown",
   "metadata": {},
   "source": [
    "## Step 2.1: Compute Node Pairs\n",
    "You use the itertools combination function to compute all possible pairs of the odd degree nodes. Your graph is undirected, so we don't care about order: For example, (a,b) == (b,a)."
   ]
  },
  {
   "cell_type": "code",
   "execution_count": 60,
   "metadata": {},
   "outputs": [
    {
     "data": {
      "text/plain": [
       "[('rs_end_north', 'rs_end_south'),\n",
       " ('rs_end_north', 'rc_end_north'),\n",
       " ('rs_end_north', 'rc_end_south'),\n",
       " ('rs_end_north', 'rt_end_north'),\n",
       " ('rs_end_north', 'o_rt'),\n",
       " ('rs_end_north', 'y_rt'),\n",
       " ('rs_end_north', 'rt_end_south'),\n",
       " ('rs_end_north', 'rh_end_north'),\n",
       " ('rs_end_north', 'rh_end_tt_1'),\n",
       " ('rs_end_north', 'rh_end_tt_2')]"
      ]
     },
     "execution_count": 60,
     "metadata": {},
     "output_type": "execute_result"
    }
   ],
   "source": [
    "# Compute all pairs of odd nodes. in a list of tuples\n",
    "odd_node_pairs = list(itertools.combinations(nodes_odd_degree, 2))\n",
    "\n",
    "# Preview pairs of odd degree nodes\n",
    "odd_node_pairs[0:10]"
   ]
  },
  {
   "cell_type": "code",
   "execution_count": 61,
   "metadata": {},
   "outputs": [
    {
     "name": "stdout",
     "output_type": "stream",
     "text": [
      "Number of pairs: 630\n"
     ]
    }
   ],
   "source": [
    "# Counts\n",
    "print('Number of pairs: {}'.format(len(odd_node_pairs)))"
   ]
  },
  {
   "cell_type": "markdown",
   "metadata": {},
   "source": [
    "## Step 2.2: Compute Shortest Paths between Node Pairs\n",
    "This is the first step that involves some real computation. Luckily networkx has a convenient implementation of Dijkstra's algorithm to compute the shortest path between two nodes. You apply this function to every pair (all 630) calculated above in odd_node_pairs."
   ]
  },
  {
   "cell_type": "code",
   "execution_count": 62,
   "metadata": {},
   "outputs": [],
   "source": [
    "def get_shortest_paths_distances(graph, pairs, edge_weight_name):\n",
    "    \"\"\"Compute shortest distance between each pair of nodes in a graph.  Return a dictionary keyed on node pairs (tuples).\"\"\"\n",
    "    distances = {}\n",
    "    for pair in pairs:\n",
    "        distances[pair] = nx.dijkstra_path_length(graph, pair[0], pair[1], weight=edge_weight_name)\n",
    "    return distances"
   ]
  },
  {
   "cell_type": "code",
   "execution_count": 63,
   "metadata": {},
   "outputs": [
    {
     "data": {
      "text/plain": [
       "{('rs_end_north', 'rs_end_south'): 7,\n",
       " ('rs_end_north', 'rc_end_north'): 4,\n",
       " ('rs_end_north', 'rc_end_south'): 8,\n",
       " ('rs_end_north', 'rt_end_north'): 5,\n",
       " ('rs_end_north', 'o_rt'): 7,\n",
       " ('rs_end_north', 'y_rt'): 9,\n",
       " ('rs_end_north', 'rt_end_south'): 10,\n",
       " ('rs_end_north', 'rh_end_north'): 6,\n",
       " ('rs_end_north', 'rh_end_tt_1'): 7,\n",
       " ('rs_end_north', 'rh_end_tt_2'): 9}"
      ]
     },
     "execution_count": 63,
     "metadata": {},
     "output_type": "execute_result"
    }
   ],
   "source": [
    "# Compute shortest paths.  Return a dictionary with node pairs keys and a single value equal to shortest path distance.\n",
    "odd_node_pairs_shortest_paths = get_shortest_paths_distances(g, odd_node_pairs, 'distance')\n",
    "\n",
    "# Preview with a bit of hack (there is no head/slice method for dictionaries).\n",
    "dict(list(odd_node_pairs_shortest_paths.items())[0:10])"
   ]
  },
  {
   "cell_type": "markdown",
   "metadata": {},
   "source": [
    "## Step 2.3: Create Complete Graph\n",
    "A complete graph is simply a graph where every node is connected to every other node by a unique edge.\n",
    "\n",
    "The graph you create below has 36 nodes and 630 edges with their corresponding edge weight (distance).\n",
    "\n",
    "create_complete_graph is defined to calculate it. The flip_weights parameter is used to transform the distance to the weight attribute where smaller numbers reflect large distances and high numbers reflect short distances. This sounds a little counter intuitive, but is necessary for Step 2.4 where you calculate the minimum weight matching on the complete graph.\n",
    "\n",
    "Ideally you'd calculate the minimum weight matching directly, but NetworkX only implements a max_weight_matching function which maximizes, rather than minimizes edge weight. We hack this a bit by negating (multiplying by -1) the distance attribute to get weight. This ensures that order and scale by distance are preserved, but reversed."
   ]
  },
  {
   "cell_type": "code",
   "execution_count": 64,
   "metadata": {},
   "outputs": [],
   "source": [
    "def create_complete_graph(pair_weights, flip_weights=True):\n",
    "    \"\"\"\n",
    "    Create a completely connected graph using a list of vertex pairs and the shortest path distances between them\n",
    "    Parameters:\n",
    "        pair_weights: list[tuple] from the output of get_shortest_paths_distances\n",
    "        flip_weights: Boolean. Should we negate the edge attribute in pair_weights?\n",
    "    \"\"\"\n",
    "    g = nx.Graph()\n",
    "    for k, v in pair_weights.items():\n",
    "        wt_i = - v if flip_weights else v\n",
    "        g.add_edge(k[0], k[1], attr_dict={'distance': v, 'weight': wt_i})\n",
    "    return g"
   ]
  },
  {
   "cell_type": "code",
   "execution_count": 65,
   "metadata": {},
   "outputs": [
    {
     "name": "stdout",
     "output_type": "stream",
     "text": [
      "Number of nodes: 36\n",
      "Number of edges: 630\n"
     ]
    }
   ],
   "source": [
    "# Generate the complete graph\n",
    "g_odd_complete = create_complete_graph(odd_node_pairs_shortest_paths, flip_weights=True)\n",
    "\n",
    "# Counts\n",
    "print('Number of nodes: {}'.format(len(g_odd_complete.nodes())))\n",
    "print('Number of edges: {}'.format(len(g_odd_complete.edges())))"
   ]
  },
  {
   "cell_type": "code",
   "execution_count": 66,
   "metadata": {},
   "outputs": [
    {
     "data": {
      "image/png": "[encoded data removed]",
      "text/plain": [
       "<Figure size 576x432 with 1 Axes>"
      ]
     },
     "metadata": {},
     "output_type": "display_data"
    }
   ],
   "source": [
    "# Plot the complete graph of odd-degree nodes\n",
    "plt.figure(figsize=(8, 6))\n",
    "pos_random = nx.random_layout(g_odd_complete)\n",
    "nx.draw_networkx_nodes(g_odd_complete, node_positions, node_size=20, node_color=\"red\")\n",
    "nx.draw_networkx_edges(g_odd_complete, node_positions, alpha=0.1)\n",
    "plt.axis('off')\n",
    "plt.title('Complete Graph of Odd-degree Nodes')\n",
    "plt.show()"
   ]
  },
  {
   "cell_type": "markdown",
   "metadata": {},
   "source": [
    "## Step 2.4: Compute Minimum Weight Matching\n",
    "This is the most complex step in the CPP. You need to find the odd degree node pairs whose combined sum (of distance between them) is as small as possible. So for your problem, this boils down to selecting the optimal 18 edges (36 odd degree nodes / 2) from the hairball of a graph generated in 2.3.\n",
    "\n",
    "Both the implementation and intuition of this optimization are beyond the scope of this tutorial... [like 800+ lines of code](https://networkx.github.io/documentation/networkx-1.10/_modules/networkx/algorithms/matching.html#max_weight_matching) and a body of academic literature beyond this scope."
   ]
  },
  {
   "cell_type": "code",
   "execution_count": 71,
   "metadata": {},
   "outputs": [
    {
     "name": "stdout",
     "output_type": "stream",
     "text": [
      "Number of edges in matching: 18\n"
     ]
    }
   ],
   "source": [
    "# Compute min weight matching.\n",
    "# Note: max_weight_matching uses the 'weight' attribute by default as the attribute to maximize.\n",
    "odd_matching = nx.algorithms.max_weight_matching(g_odd_complete, True)\n",
    "\n",
    "print('Number of edges in matching: {}'.format(len(odd_matching)))"
   ]
  },
  {
   "cell_type": "code",
   "execution_count": 72,
   "metadata": {},
   "outputs": [
    {
     "data": {
      "text/plain": [
       "{('b_bv', 'rh_end_tt_3'),\n",
       " ('b_bw', 'y_rh'),\n",
       " ('b_end_east', 'rh_end_tt_2'),\n",
       " ('b_end_west', 'rh_end_south'),\n",
       " ('b_tt_3', 'rh_end_tt_4'),\n",
       " ('b_v', 'v_end_west'),\n",
       " ('o_rt', 'g_gy2'),\n",
       " ('o_tt', 'rc_end_south'),\n",
       " ('o_w_1', 'rt_end_south'),\n",
       " ('o_y_tt_end_west', 'rt_end_north'),\n",
       " ('rc_end_north', 'y_gy1'),\n",
       " ('rd_end_north', 'v_end_east'),\n",
       " ('rh_end_north', 'g_w'),\n",
       " ('rs_end_north', 'nature_end_west'),\n",
       " ('rs_end_south', 'y_gy2'),\n",
       " ('v_bv', 'rd_end_south'),\n",
       " ('w_bw', 'rh_end_tt_1'),\n",
       " ('y_rt', 'g_gy1')}"
      ]
     },
     "execution_count": 72,
     "metadata": {},
     "output_type": "execute_result"
    }
   ],
   "source": [
    "# Preview of deduped matching\n",
    "odd_matching"
   ]
  },
  {
   "cell_type": "markdown",
   "metadata": {},
   "source": [
    "## Step 2.5: Augment the Original Graph\n",
    "Now you augment the original graph with the edges from the matching calculated in 2.4. A simple function to do this is defined below which also notes that these new edges came from the augmented graph. You'll need to know this in 3. when you actually create the Eulerian circuit through the graph."
   ]
  },
  {
   "cell_type": "code",
   "execution_count": 73,
   "metadata": {},
   "outputs": [],
   "source": [
    "def add_augmenting_path_to_graph(graph, min_weight_pairs):\n",
    "    \"\"\"\n",
    "    Add the min weight matching edges to the original graph\n",
    "    Parameters:\n",
    "        graph: NetworkX graph (original graph from trailmap)\n",
    "        min_weight_pairs: list[tuples] of node pairs from min weight matching\n",
    "    Returns:\n",
    "        augmented NetworkX graph\n",
    "    \"\"\"\n",
    "\n",
    "    # We need to make the augmented graph a MultiGraph so we can add parallel edges\n",
    "    graph_aug = nx.MultiGraph(graph.copy())\n",
    "    for pair in min_weight_pairs:\n",
    "        graph_aug.add_edge(pair[0],\n",
    "                           pair[1],\n",
    "                           attr_dict={'distance': nx.dijkstra_path_length(graph, pair[0], pair[1]),\n",
    "                                      'trail': 'augmented'}\n",
    "                          )\n",
    "    return graph_aug"
   ]
  },
  {
   "cell_type": "code",
   "execution_count": 74,
   "metadata": {},
   "outputs": [
    {
     "name": "stdout",
     "output_type": "stream",
     "text": [
      "Number of edges in original graph: 123\n",
      "Number of edges in augmented graph: 141\n"
     ]
    }
   ],
   "source": [
    "# Confirm that your augmented graph adds the expected number (18) of edges:\n",
    "\n",
    "# Create augmented graph: add the min weight matching edges to g\n",
    "g_aug = add_augmenting_path_to_graph(g, odd_matching)\n",
    "\n",
    "# Counts\n",
    "print('Number of edges in original graph: {}'.format(len(g.edges())))\n",
    "print('Number of edges in augmented graph: {}'.format(len(g_aug.edges())))"
   ]
  },
  {
   "cell_type": "code",
   "execution_count": null,
   "metadata": {},
   "outputs": [],
   "source": []
  },
  {
   "cell_type": "code",
   "execution_count": null,
   "metadata": {},
   "outputs": [],
   "source": []
  },
  {
   "cell_type": "code",
   "execution_count": null,
   "metadata": {},
   "outputs": [],
   "source": []
  },
  {
   "cell_type": "code",
   "execution_count": null,
   "metadata": {},
   "outputs": [],
   "source": []
  },
  {
   "cell_type": "code",
   "execution_count": null,
   "metadata": {},
   "outputs": [],
   "source": []
  }
 ],
 "metadata": {
  "kernelspec": {
   "display_name": "Python 3",
   "language": "python",
   "name": "python3"
  },
  "language_info": {
   "codemirror_mode": {
    "name": "ipython",
    "version": 3
   },
   "file_extension": ".py",
   "mimetype": "text/x-python",
   "name": "python",
   "nbconvert_exporter": "python",
   "pygments_lexer": "ipython3",
   "version": "3.8.5"
  }
 },
 "nbformat": 4,
 "nbformat_minor": 2
}
